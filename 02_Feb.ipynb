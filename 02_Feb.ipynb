{
 "cells": [
  {
   "cell_type": "markdown",
   "id": "2427e376-57c5-42dd-82c8-82497971a679",
   "metadata": {},
   "source": [
    "# Q1. What are the characteristics of the tuples? Is tuple immutable?\n",
    "Ans. Tuple items are ordered, unchangeable, and allow duplicate values.\n",
    "Tuple items are indexed, the first item has index [0], the second item has index [1] etc.\n",
    "tuples are immutable, meaning you cannot change their contents after they are created. "
   ]
  },
  {
   "cell_type": "code",
   "execution_count": 2,
   "id": "da3f139a-ac61-42b4-b3d7-5ee9c7ce20b4",
   "metadata": {},
   "outputs": [
    {
     "data": {
      "text/plain": [
       "1"
      ]
     },
     "execution_count": 2,
     "metadata": {},
     "output_type": "execute_result"
    }
   ],
   "source": [
    "# Q2. What are the two tuple methods in python? Give an example of each method. Give a reason why tuples have only two in-built methods as compared to Lists.\n",
    "#There are only two tuple methods count() and index() that a tuple object can call.\n",
    " #count():-returns count of the element in the tuple\n",
    " #index():-returns the index of the element in the tuple\n",
    "t1 = (1,2,3,4,45,45.45 , 45+7j , \"sudh\" , True)\n",
    "t1.count(4)"
   ]
  },
  {
   "cell_type": "code",
   "execution_count": 4,
   "id": "60d6c84a-3bf5-48bf-ae9d-699184e3b5cb",
   "metadata": {},
   "outputs": [
    {
     "data": {
      "text/plain": [
       "7"
      ]
     },
     "execution_count": 4,
     "metadata": {},
     "output_type": "execute_result"
    }
   ],
   "source": [
    "\n",
    "t1.index(\"sudh\")\n",
    "#In a tuple, changes and errors don't usually occur because of immutability."
   ]
  },
  {
   "cell_type": "code",
   "execution_count": 5,
   "id": "492ede31-5c60-497f-bcb2-e3936099812d",
   "metadata": {},
   "outputs": [
    {
     "data": {
      "text/plain": [
       "{1, 2, 3, 4}"
      ]
     },
     "execution_count": 5,
     "metadata": {},
     "output_type": "execute_result"
    }
   ],
   "source": [
    "#Q3. Which collection datatypes in python do not allow duplicate items? Write a code using a set to remove\n",
    "#duplicates from the given list.\n",
    "#Ans.Set is a collection which is unordered and unindexed. No duplicate members.\n",
    "List = [1, 1, 1, 2, 1, 3, 1, 4, 2, 1, 2, 2, 2, 3, 2, 4, 3, 1, 3, 2, 3, 3, 3, 4, 4, 1, 4, 2, 4, 3, 4, 4]\n",
    "set(List)"
   ]
  },
  {
   "cell_type": "code",
   "execution_count": 6,
   "id": "08654e1e-a074-4b63-93a5-1dc36e56269f",
   "metadata": {},
   "outputs": [
    {
     "name": "stdout",
     "output_type": "stream",
     "text": [
      "A Union B :  {1, 2, 3, 4, 5, 6, 7, 8, 9}\n",
      "A Union B Union L :  {1, 2, 3, 4, 5, 6, 7, 8, 9, 11, 12, 13, 14, 15}\n"
     ]
    }
   ],
   "source": [
    "#Q4. Explain the difference between the union() and update() methods for a set. Give an example of\n",
    "#each method.\n",
    "#Ans. difference is that where union() method create and return a new set, containing all the elements \n",
    "#( distinct ) present in all the iterables, update() method updates the set on which this method is \n",
    "#called with all the distinct elements present in all the iterables.\n",
    "# create set object and assign it to variable A\n",
    "A = {1,2,3,4,5}\n",
    "\n",
    "# create set object and assign it to variable B\n",
    "B = {4,5,6,7,8,9}\n",
    "\n",
    "# call update method to get union of set A and B by updating set A\n",
    "A.update(B)\n",
    "\n",
    "# print all the values of set A\n",
    "print('A Union B : ',A)\n",
    "\n",
    "# create list object and assign it to variable L\n",
    "L = [11,12,13,14,15]\n",
    "\n",
    "# call update method to get union of set A, B and list L by updating set A\n",
    "A.update(B,L)\n",
    "\n",
    "# print all the values of set A\n",
    "print('A Union B Union L : ',A)"
   ]
  },
  {
   "cell_type": "code",
   "execution_count": 8,
   "id": "371d632d-669a-4df2-ae2c-dc9d92ea1789",
   "metadata": {},
   "outputs": [],
   "source": [
    "#Q5. What is a dictionary? Give an example. Also, state whether a dictionary is ordered or unordered.\n",
    "#Ans.Dictionaries are Python's implementation of a data structure that is more generally known as an associative array.\n",
    "#A dictionary consists of a collection of key-value pairs. Each key-value pair maps the key to its associated value.\n",
    "d1 = {\"name\" : \"sudh\" , \"emiil_id\" : \"ss@gmail.com\" , \"number\" :234324}\n",
    "#Note that dictionaries are unordered, meaning that any time you loop through a dictionary, you will go through every key,\n",
    "#but you are not guaranteed to get them in any particular order."
   ]
  },
  {
   "cell_type": "code",
   "execution_count": 9,
   "id": "75827629-5c2b-48f8-88cd-402930fbdcca",
   "metadata": {},
   "outputs": [
    {
     "name": "stdout",
     "output_type": "stream",
     "text": [
      "{'emp1': {'name': 'Bob', 'job': 'Mgr'}, 'emp2': {'name': 'Kim', 'job': 'Dev'}, 'emp3': {'name': 'Sam', 'job': 'Dev'}}\n"
     ]
    }
   ],
   "source": [
    "#Q6. Can we create a nested dictionary? If so, please give an example by creating a simple one-level nested dictionary.\n",
    "#Ans. To create a nested dictionary, simply pass dictionary key:value pair as keyword arguments to dict() Constructor.\n",
    "D = dict(emp1 = {'name': 'Bob', 'job': 'Mgr'},\n",
    "         emp2 = {'name': 'Kim', 'job': 'Dev'},\n",
    "         emp3 = {'name': 'Sam', 'job': 'Dev'})\n",
    "\n",
    "print(D)"
   ]
  },
  {
   "cell_type": "code",
   "execution_count": 14,
   "id": "1f5f9b15-1fab-4d66-bd51-6da4067bd8e7",
   "metadata": {},
   "outputs": [
    {
     "name": "stdout",
     "output_type": "stream",
     "text": [
      "{'language': 'Python', 'course': 'Data Science Masters', 'topics': ['Python', 'Machine Learning', 'Deep Learning']}\n"
     ]
    }
   ],
   "source": [
    "#Q7. Using setdefault() method, create key named topics in the given dictionary and also add the value of\n",
    "#the key as this list ['Python', 'Machine Learning’, 'Deep Learning']\n",
    "dict1 = {'language' : 'Python', 'course': 'Data Science Masters'}\n",
    "dict1.setdefault(\"topics\",[\"Python\", \"Machine Learning\", \"Deep Learning\"])\n",
    "print(dict1)\n"
   ]
  },
  {
   "cell_type": "code",
   "execution_count": 21,
   "id": "60ad54c9-ff58-493a-8134-3aa54f9f51ad",
   "metadata": {},
   "outputs": [
    {
     "data": {
      "text/plain": [
       "dict_keys(['Sport', 'Teams'])"
      ]
     },
     "execution_count": 21,
     "metadata": {},
     "output_type": "execute_result"
    }
   ],
   "source": [
    "#Q8. What are the three view objects in dictionaries? Use the three in-built methods in python to display\n",
    "#these three view objects for the given dictionary.\n",
    "#Ans.The main view objects of dictionary in python are keys, values and items.\n",
    "dict1 = {'Sport': 'Cricket' , 'Teams': ['India', 'Australia', 'England', 'South Africa', 'Sri Lanka', 'New Zealand']}\n",
    "dict1.keys()"
   ]
  },
  {
   "cell_type": "code",
   "execution_count": 22,
   "id": "7e99910d-5aca-48d1-8016-4eb13429598b",
   "metadata": {},
   "outputs": [
    {
     "data": {
      "text/plain": [
       "dict_values(['Cricket', ['India', 'Australia', 'England', 'South Africa', 'Sri Lanka', 'New Zealand']])"
      ]
     },
     "execution_count": 22,
     "metadata": {},
     "output_type": "execute_result"
    }
   ],
   "source": [
    "dict1.values()"
   ]
  },
  {
   "cell_type": "code",
   "execution_count": 23,
   "id": "795b97fa-a288-48f8-a75a-d338ccf179ff",
   "metadata": {},
   "outputs": [
    {
     "data": {
      "text/plain": [
       "dict_items([('Sport', 'Cricket'), ('Teams', ['India', 'Australia', 'England', 'South Africa', 'Sri Lanka', 'New Zealand'])])"
      ]
     },
     "execution_count": 23,
     "metadata": {},
     "output_type": "execute_result"
    }
   ],
   "source": [
    "dict1.items()"
   ]
  },
  {
   "cell_type": "code",
   "execution_count": null,
   "id": "6af79196-7de7-443b-99f1-a3f986f5bbdf",
   "metadata": {},
   "outputs": [],
   "source": []
  }
 ],
 "metadata": {
  "kernelspec": {
   "display_name": "Python 3 (ipykernel)",
   "language": "python",
   "name": "python3"
  },
  "language_info": {
   "codemirror_mode": {
    "name": "ipython",
    "version": 3
   },
   "file_extension": ".py",
   "mimetype": "text/x-python",
   "name": "python",
   "nbconvert_exporter": "python",
   "pygments_lexer": "ipython3",
   "version": "3.10.8"
  }
 },
 "nbformat": 4,
 "nbformat_minor": 5
}
