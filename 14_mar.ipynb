{
 "cells": [
  {
   "cell_type": "markdown",
   "id": "00a74762-66ba-441f-ab8c-bec45b39515a",
   "metadata": {},
   "source": [
    "Q1. Write a Python function that takes in two arrays of data and calculates the F-value for a variance ratio\r\n",
    "test. The function should return the F-value and the corresponding p-value for the test."
   ]
  },
  {
   "cell_type": "code",
   "execution_count": 1,
   "id": "6944020f-41bb-4d9c-a823-4366f8aecf69",
   "metadata": {},
   "outputs": [],
   "source": [
    "import numpy as np\n",
    "from scipy.stats import f\n",
    "\n",
    "def calculate_f_value(data1, data2):\n",
    "    var1 = np.var(data1, ddof=1)\n",
    "    var2 = np.var(data2, ddof=1)\n",
    "    f_value = var1 / var2\n",
    "    df1 = len(data1) - 1\n",
    "    df2 = len(data2) - 1\n",
    "    p_value = 2 * min(f.cdf(f_value, df1, df2), 1 - f.cdf(f_value, df1, df2))\n",
    "    return f_value, p_value\n"
   ]
  },
  {
   "cell_type": "markdown",
   "id": "4c6f20b3-208f-4326-985f-806c7aba6730",
   "metadata": {},
   "source": [
    "Q2. Given a significance level of 0.05 and the degrees of freedom for the numerator and denominator of an\r\n",
    "F-distribution, write a Python function that returns the critical F-value for a two-tailed test."
   ]
  },
  {
   "cell_type": "code",
   "execution_count": 2,
   "id": "e2619044-7b66-4f1f-af79-a3eb1bad2774",
   "metadata": {},
   "outputs": [],
   "source": [
    "from scipy.stats import f\n",
    "\n",
    "def critical_f_value(alpha, df_num, df_denom):\n",
    "    return f.ppf(1 - alpha/2, df_num, df_denom)\n"
   ]
  },
  {
   "cell_type": "markdown",
   "id": "012eb25e-cfe9-4d69-93c0-14e783ea6982",
   "metadata": {},
   "source": [
    "Q3. Write a Python program that generates random samples from two normal distributions with known\r\n",
    "\r\n",
    "variances and uses an F-test to determine if the variances are equal. The program should output the F-\r\n",
    "value, degrees of freedom, and p-value for the test."
   ]
  },
  {
   "cell_type": "code",
   "execution_count": 3,
   "id": "ae1ac20b-3d84-4fa8-9ca1-0b2264d72dac",
   "metadata": {},
   "outputs": [],
   "source": [
    "import numpy as np\n",
    "from scipy.stats import f\n",
    "\n",
    "def f_test_for_variances(data1, data2):\n",
    "    var1 = np.var(data1, ddof=1)\n",
    "    var2 = np.var(data2, ddof=1)\n",
    "    df1 = len(data1) - 1\n",
    "    df2 = len(data2) - 1\n",
    "    f_value = var1 / var2\n",
    "    p_value = 2 * min(f.cdf(f_value, df1, df2), 1 - f.cdf(f_value, df1, df2))\n",
    "    return f_value, df1, df2, p_value\n"
   ]
  },
  {
   "cell_type": "markdown",
   "id": "80c9febe-cebf-427f-8761-1c3b941f06a4",
   "metadata": {},
   "source": [
    "Q4.The variances of two populations are known to be 10 and 15. A sample of 12 observations is taken from\r\n",
    "each population. Conduct an F-test at the 5% significance level to determine if the variances are\r\n",
    "significantly different."
   ]
  },
  {
   "cell_type": "code",
   "execution_count": 4,
   "id": "670cbd26-0a81-44d6-9805-3020b1958a29",
   "metadata": {},
   "outputs": [
    {
     "name": "stdout",
     "output_type": "stream",
     "text": [
      "F-value: 0.6666666666666666\n",
      "Degrees of freedom: (11, 11)\n",
      "P-value: 0.5123897987357996\n"
     ]
    }
   ],
   "source": [
    "# Given variances\n",
    "variance1 = 10\n",
    "variance2 = 15\n",
    "\n",
    "# Sample sizes\n",
    "n1 = 12\n",
    "n2 = 12\n",
    "\n",
    "# Degrees of freedom\n",
    "df1 = n1 - 1\n",
    "df2 = n2 - 1\n",
    "\n",
    "# F-test\n",
    "f_value = variance1 / variance2\n",
    "p_value = 2 * min(f.cdf(f_value, df1, df2), 1 - f.cdf(f_value, df1, df2))\n",
    "\n",
    "# Print results\n",
    "print(f\"F-value: {f_value}\")\n",
    "print(f\"Degrees of freedom: ({df1}, {df2})\")\n",
    "print(f\"P-value: {p_value}\")\n"
   ]
  },
  {
   "cell_type": "markdown",
   "id": "f46117e4-97d4-41c1-a5b9-8db92b40cfa4",
   "metadata": {},
   "source": [
    "Q5. A manufacturer claims that the variance of the diameter of a certain product is 0.005. A sample of 25\r\n",
    "products is taken, and the sample variance is found to be 0.006. Conduct an F-test at the 1% significance\r\n",
    "level to determine if the claim is justified."
   ]
  },
  {
   "cell_type": "code",
   "execution_count": 5,
   "id": "ea248e07-12da-46a4-a533-0e2baf3e2647",
   "metadata": {},
   "outputs": [
    {
     "name": "stdout",
     "output_type": "stream",
     "text": [
      "F-value: 1.2\n",
      "Degrees of freedom: (24, 24)\n",
      "P-value: 0.6587309365634488\n"
     ]
    }
   ],
   "source": [
    "# Given values\n",
    "claimed_variance = 0.005\n",
    "sample_variance = 0.006\n",
    "n = 25\n",
    "\n",
    "# Degrees of freedom\n",
    "df_num = n - 1\n",
    "df_denom = n - 1\n",
    "\n",
    "# F-test\n",
    "f_value = sample_variance / claimed_variance\n",
    "p_value = 2 * min(f.cdf(f_value, df_num, df_denom), 1 - f.cdf(f_value, df_num, df_denom))\n",
    "\n",
    "# Print results\n",
    "print(f\"F-value: {f_value}\")\n",
    "print(f\"Degrees of freedom: ({df_num}, {df_denom})\")\n",
    "print(f\"P-value: {p_value}\")\n"
   ]
  },
  {
   "cell_type": "markdown",
   "id": "9592577d-11af-4d37-8287-e277cccf9420",
   "metadata": {},
   "source": [
    "Q6. Write a Python function that takes in the degrees of freedom for the numerator and denominator of an\r\n",
    "F-distribution and calculates the mean and variance of the distribution. The function should return the\r\n",
    "mean and variance as a tuple."
   ]
  },
  {
   "cell_type": "code",
   "execution_count": 6,
   "id": "abd854c4-8e3f-4672-8dd3-95381c70cda9",
   "metadata": {},
   "outputs": [],
   "source": [
    "from scipy.stats import f\n",
    "\n",
    "def mean_and_variance_of_f_distribution(df_num, df_denom):\n",
    "    mean = df_denom / (df_denom - 2)\n",
    "    variance = (2 * (df_denom**2) * (df_num + df_denom - 2)) / (df_num * (df_denom - 2)**2 * (df_denom - 4))\n",
    "    return mean, variance\n"
   ]
  },
  {
   "cell_type": "markdown",
   "id": "281c8168-30e4-47bc-bb2c-a6b40d054c37",
   "metadata": {},
   "source": [
    "Q7. A random sample of 10 measurements is taken from a normal population with unknown variance. The\r\n",
    "sample variance is found to be 25. Another random sample of 15 measurements is taken from another\r\n",
    "normal population with unknown variance, and the sample variance is found to be 20. Conduct an F-test\r\n",
    "at the 10% significance level to determine if the variances are significantly different."
   ]
  },
  {
   "cell_type": "code",
   "execution_count": 7,
   "id": "829c290e-afd9-4047-bb69-90f7e5f15bc6",
   "metadata": {},
   "outputs": [
    {
     "name": "stdout",
     "output_type": "stream",
     "text": [
      "F-value: 1.25\n",
      "Degrees of freedom: (9, 14)\n",
      "P-value: 0.6832194382585954\n"
     ]
    }
   ],
   "source": [
    "# Given sample variances\n",
    "sample_var1 = 25\n",
    "sample_var2 = 20\n",
    "\n",
    "# Sample sizes\n",
    "n1 = 10\n",
    "n2 = 15\n",
    "\n",
    "# Degrees of freedom\n",
    "df1 = n1 - 1\n",
    "df2 = n2 - 1\n",
    "\n",
    "# F-test\n",
    "f_value = sample_var1 / sample_var2\n",
    "p_value = 2 * min(f.cdf(f_value, df1, df2), 1 - f.cdf(f_value, df1, df2))\n",
    "\n",
    "# Print results\n",
    "print(f\"F-value: {f_value}\")\n",
    "print(f\"Degrees of freedom: ({df1}, {df2})\")\n",
    "print(f\"P-value: {p_value}\")\n"
   ]
  },
  {
   "cell_type": "markdown",
   "id": "199a926f-4277-4a2d-94e3-f0802ff4a5ef",
   "metadata": {},
   "source": [
    "Q8. The following data represent the waiting times in minutes at two different restaurants on a Saturday\r\n",
    "night: Restaurant A: 24, 25, 28, 23, 22, 20, 27; Restaurant B: 31, 33, 35, 30, 32, 36. Conduct an F-test at the 5%\r\n",
    "significance level to determine if the variances are significantly different."
   ]
  },
  {
   "cell_type": "code",
   "execution_count": 8,
   "id": "a641b65c-6815-46e8-9a9b-3798f48db977",
   "metadata": {},
   "outputs": [
    {
     "name": "stdout",
     "output_type": "stream",
     "text": [
      "F-value: 1.4551907719609583\n",
      "Degrees of freedom: (6, 5)\n",
      "P-value: 0.6974815747937484\n"
     ]
    }
   ],
   "source": [
    "# Waiting times data\n",
    "data_A = [24, 25, 28, 23, 22, 20, 27]\n",
    "data_B = [31, 33, 35, 30, 32, 36]\n",
    "\n",
    "# F-test\n",
    "f_value = np.var(data_A, ddof=1) / np.var(data_B, ddof=1)\n",
    "df1 = len(data_A) - 1\n",
    "df2 = len(data_B) - 1\n",
    "p_value = 2 * min(f.cdf(f_value, df1, df2), 1 - f.cdf(f_value, df1, df2))\n",
    "\n",
    "# Print results\n",
    "print(f\"F-value: {f_value}\")\n",
    "print(f\"Degrees of freedom: ({df1}, {df2})\")\n",
    "print(f\"P-value: {p_value}\")\n"
   ]
  },
  {
   "cell_type": "markdown",
   "id": "a929e5f7-92f9-480d-a4ae-cbfff270aab8",
   "metadata": {},
   "source": [
    "Q9. The following data represent the test scores of two groups of students: Group A: 80, 85, 90, 92, 87, 83;\r\n",
    "Group B: 75, 78, 82, 79, 81, 84. Conduct an F-test at the 1% significance level to determine if the variances\r\n",
    "are significantly different."
   ]
  },
  {
   "cell_type": "code",
   "execution_count": 9,
   "id": "4072d241-2ce6-4373-974e-6b245c57cb5d",
   "metadata": {},
   "outputs": [
    {
     "name": "stdout",
     "output_type": "stream",
     "text": [
      "F-value: 1.9442622950819677\n",
      "Degrees of freedom: (5, 5)\n",
      "P-value: 0.4831043549070688\n"
     ]
    }
   ],
   "source": [
    "# Test scores data\n",
    "data_group_A = [80, 85, 90, 92, 87, 83]\n",
    "data_group_B = [75, 78, 82, 79, 81, 84]\n",
    "\n",
    "# F-test\n",
    "f_value = np.var(data_group_A, ddof=1) / np.var(data_group_B, ddof=1)\n",
    "df1 = len(data_group_A) - 1\n",
    "df2 = len(data_group_B) - 1\n",
    "p_value = 2 * min(f.cdf(f_value, df1, df2), 1 - f.cdf(f_value, df1, df2))\n",
    "\n",
    "# Print results\n",
    "print(f\"F-value: {f_value}\")\n",
    "print(f\"Degrees of freedom: ({df1}, {df2})\")\n",
    "print(f\"P-value: {p_value}\")\n"
   ]
  },
  {
   "cell_type": "code",
   "execution_count": null,
   "id": "817e52f0-76cc-4408-977a-be5aa95e3416",
   "metadata": {},
   "outputs": [],
   "source": []
  }
 ],
 "metadata": {
  "kernelspec": {
   "display_name": "Python 3 (ipykernel)",
   "language": "python",
   "name": "python3"
  },
  "language_info": {
   "codemirror_mode": {
    "name": "ipython",
    "version": 3
   },
   "file_extension": ".py",
   "mimetype": "text/x-python",
   "name": "python",
   "nbconvert_exporter": "python",
   "pygments_lexer": "ipython3",
   "version": "3.11.5"
  }
 },
 "nbformat": 4,
 "nbformat_minor": 5
}
