{
 "cells": [
  {
   "cell_type": "markdown",
   "id": "d3f7e664",
   "metadata": {},
   "source": [
    "# Q1. Which function is used to open a file? What are the different modes of opening a file? Explain each mode of file opening.\n",
    "Ans.o work with files in Python, you have to open the file first. So, the open() function does what the name implies – it opens a file for you so you can work with the file."
   ]
  },
  {
   "cell_type": "code",
   "execution_count": null,
   "id": "55e3b5cc",
   "metadata": {},
   "outputs": [],
   "source": [
    "\"\"\"Different Modes to Open a File in Python\n",
    "Mode\tDescription\n",
    "r\tOpen a file for reading. (default)\n",
    "w\tOpen a file for writing. Creates a new file if it does not exist or truncates the file if it exists.\n",
    "x\tOpen a file for exclusive creation. If the file already exists, the operation fails.\n",
    "a\tOpen a file for appending at the end of the file without truncating it. Creates a new file if it does not exist.\n",
    "t\tOpen in text mode. (default)\n",
    "b\tOpen in binary mode.\n",
    "+\tOpen a file for updating (reading and writing)\"\"\""
   ]
  },
  {
   "cell_type": "markdown",
   "id": "e1f331a3",
   "metadata": {},
   "source": [
    "# Q2. Why close() function is used? Why is it important to close a file?\n",
    "Ans.The close() method closes an open file. You should always close your files, in some cases, due to buffering, changes made to a file may not show until you close the file."
   ]
  },
  {
   "cell_type": "markdown",
   "id": "700de400",
   "metadata": {},
   "source": [
    "# Q3. Write a python program to create a text file. Write ‘I want to become a Data Scientist’ in that file. Then close the file. Open this file and read the content of the file."
   ]
  },
  {
   "cell_type": "code",
   "execution_count": 2,
   "id": "cf456ecc",
   "metadata": {},
   "outputs": [],
   "source": [
    "f = open(\"test.txt\" ,'w' )\n",
    "f.write(\"I want to become a Data Scientist\")\n",
    "f.close()"
   ]
  },
  {
   "cell_type": "code",
   "execution_count": 3,
   "id": "b4d1f0e9",
   "metadata": {},
   "outputs": [
    {
     "data": {
      "text/plain": [
       "'I want to become a Data Scientist'"
      ]
     },
     "execution_count": 3,
     "metadata": {},
     "output_type": "execute_result"
    }
   ],
   "source": [
    "data = open(\"test.txt\" , \"r\")\n",
    "data.read()"
   ]
  },
  {
   "cell_type": "markdown",
   "id": "2dc33ae7",
   "metadata": {},
   "source": [
    "# Q4. Explain the following with python code: read(), readline() and readlines()."
   ]
  },
  {
   "cell_type": "code",
   "execution_count": null,
   "id": "78588355",
   "metadata": {},
   "outputs": [],
   "source": [
    "\"\"\"\n",
    "Read ( ): Returns the read bytes in the form of a string. Reads n bytes; if n is not specified, then reads the entire file.\n",
    "Readline ( ): Reads a line of the file and returns in the form of a string. For specified n, reads at most n bytes. \n",
    "readlines ( ): Reads all the lines and returns them as a string element in a list.\"\"\""
   ]
  },
  {
   "cell_type": "code",
   "execution_count": 4,
   "id": "bbe22415",
   "metadata": {},
   "outputs": [
    {
     "name": "stdout",
     "output_type": "stream",
     "text": [
      "Statement1: Apple\n",
      "Statement2: Orange\n",
      "Statement3: Banana\n"
     ]
    }
   ],
   "source": [
    "Fruits = [\"Apple\\n\", \"Orange\\n\", \"Banana\\n\"]  \n",
    "# writing to file  \n",
    "file = open('hello.txt', 'w')  \n",
    "file.writelines(Fruits)                              # writelines is used to write the data into the file in                                                # the form of a list, by inserting multiple values at the same time,   \n",
    "                                                       # here, we are taking the hello.txt file   \n",
    "file.close()   \n",
    "# Using readlines()  \n",
    "file = open('hello.txt', 'r')  \n",
    "Statements = file.readlines()  \n",
    "count = 0  \n",
    "# Strips the newline character  \n",
    "for line in Statements:                                     # Using for loop to print the data of the file  \n",
    "  count = count + 1  \n",
    "  print(\"Statement{}: {}\".format(count, line.strip()))  "
   ]
  },
  {
   "cell_type": "code",
   "execution_count": 5,
   "id": "36359af1",
   "metadata": {},
   "outputs": [
    {
     "name": "stdout",
     "output_type": "stream",
     "text": [
      "Statement1: Apple\n",
      "Statement2: Graphs\n",
      "Statement3: Mango\n",
      "Statement4: Orange\n",
      "Statement5: Kiwi\n"
     ]
    }
   ],
   "source": [
    "# Python program to implement the file concept using readline() for reading a file  \n",
    "Fruit = [ \"Apple\\n\" , \"Graphs\\n\" , \"Mango\\n\" , \"Orange\\n\" , \"Kiwi\\n\" ]  \n",
    "# Writing to a file  \n",
    "file1 = open('new.txt', 'w')  \n",
    "file1.writelines((Fruit))                          # writelines is used to write the data into the file in                                                # the form of list, by inserting multiple values at a same time,   \n",
    "                                                       # here we are taking new.txt file   \n",
    "                                                         \n",
    "file1.close()                                       # This instruction is used to close the file, i.e., hello.txt  \n",
    "                                                                                \n",
    "# Using readline()  \n",
    "file1 = open('new.txt', 'r')  \n",
    "count = 0  \n",
    "while True:  \n",
    "  count = count + 1  \n",
    "  # Get next line from file  \n",
    "  s = file1.readline()  \n",
    "  \n",
    "  # if line is empty  \n",
    "  # end of file is reached  \n",
    "  if not s:  \n",
    "    break  \n",
    "  print(\"Statement{}: {}\".format(count, s.strip()))  \n",
    "file1.close()  "
   ]
  },
  {
   "cell_type": "code",
   "execution_count": 6,
   "id": "2a0fa60d",
   "metadata": {},
   "outputs": [
    {
     "data": {
      "text/plain": [
       "'I want to become a Data Scientist'"
      ]
     },
     "execution_count": 6,
     "metadata": {},
     "output_type": "execute_result"
    }
   ],
   "source": [
    "#usind read()\n",
    "f = open(\"test1.txt\" ,'w' )\n",
    "f.write(\"I want to become a Data Scientist\")\n",
    "f.close()\n",
    "data = open(\"test1.txt\" , \"r\")\n",
    "data.read()"
   ]
  },
  {
   "cell_type": "markdown",
   "id": "889e0c67",
   "metadata": {},
   "source": [
    "# Q5. Explain why with statement is used with open(). What is the advantage of using with statement and open() together?\n",
    "Ans. The with statement works with the open() function to open a file. Unlike open() where you have to close the file with the close() method, the with statement closes the file for you without you telling it to. This is because the with statement calls 2 built-in methods behind the scene – __enter()__ and __exit()__ ."
   ]
  },
  {
   "cell_type": "markdown",
   "id": "7e21f52b",
   "metadata": {},
   "source": [
    "# Q6. Explain the write() and writelines() functions. Give a suitable example.\n",
    "Ans. The write() function will write the content in the file without adding any extra characters.\n",
    "writelines() function:This function writes the content of a list to a file."
   ]
  },
  {
   "cell_type": "code",
   "execution_count": 8,
   "id": "bb11dd80",
   "metadata": {},
   "outputs": [
    {
     "name": "stdout",
     "output_type": "stream",
     "text": [
      "Enter the name of the employee: Swastik Dubey\n",
      "Enter the name of the employee: Rahul patil\n",
      "Enter the name of the employee: Rohan Singh\n",
      "Data is written into the file.\n"
     ]
    }
   ],
   "source": [
    "file = open(\"Employees.txt\", \"w\")\n",
    "\n",
    "for i in range(3):\n",
    "    name = input(\"Enter the name of the employee: \")\n",
    "    file.write(name)\n",
    "    file.write(\"\\n\")\n",
    "\n",
    "file.close()\n",
    "\n",
    "print(\"Data is written into the file.\")\n"
   ]
  },
  {
   "cell_type": "code",
   "execution_count": 9,
   "id": "8aa789f7",
   "metadata": {},
   "outputs": [
    {
     "name": "stdout",
     "output_type": "stream",
     "text": [
      "Enter the name of the employee: Swastik Dubey\n",
      "Enter the name of the employee: Rahul patil\n",
      "Enter the name of the employee: Rohan Singh\n",
      "Data is written into the file.\n"
     ]
    }
   ],
   "source": [
    "file1 = open(\"Employees.txt\", \"w\")\n",
    "lst = []\n",
    "for i in range(3):\n",
    "    name = input(\"Enter the name of the employee: \")\n",
    "    lst.append(name + '\\n')\n",
    "\n",
    "file1.writelines(lst)\n",
    "file1.close()\n",
    "print(\"Data is written into the file.\")\n"
   ]
  },
  {
   "cell_type": "code",
   "execution_count": null,
   "id": "8f645310",
   "metadata": {},
   "outputs": [],
   "source": []
  }
 ],
 "metadata": {
  "kernelspec": {
   "display_name": "Python 3 (ipykernel)",
   "language": "python",
   "name": "python3"
  },
  "language_info": {
   "codemirror_mode": {
    "name": "ipython",
    "version": 3
   },
   "file_extension": ".py",
   "mimetype": "text/x-python",
   "name": "python",
   "nbconvert_exporter": "python",
   "pygments_lexer": "ipython3",
   "version": "3.9.16"
  }
 },
 "nbformat": 4,
 "nbformat_minor": 5
}
