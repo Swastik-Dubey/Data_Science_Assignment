{
 "cells": [
  {
   "cell_type": "markdown",
   "id": "dab8b63e",
   "metadata": {},
   "source": [
    "### Explain the difference between simple linear regression and multiple linear regression. Provide an example of each."
   ]
  },
  {
   "cell_type": "markdown",
   "id": "1eaa65a5",
   "metadata": {},
   "source": [
    "The two types of linear regression are simple linear and multiple linear regression. Simple linear regression has one independent variable, while multiple linear regression can have two or more independent variables."
   ]
  },
  {
   "cell_type": "markdown",
   "id": "a5391ff2",
   "metadata": {},
   "source": [
    "### Q2. Discuss the assumptions of linear regression. How can you check whether these assumptions hold in a given dataset?"
   ]
  },
  {
   "cell_type": "markdown",
   "id": "c0ebca5c",
   "metadata": {},
   "source": [
    "The chosen sample is representative of the population. There is a linear relationship between the independent variable(s) and the dependent variable. All the variables are normally distributed; to check, plot a histogram of the residuals.\n",
    "Linearity: The relationship between X and the mean of Y is linear. Homoscedasticity: The variance of residual is the same for any value of X. Independence: Observations are independent of each other. Normality: For any fixed value of X, Y is normally distributed."
   ]
  },
  {
   "cell_type": "markdown",
   "id": "f0d8de67",
   "metadata": {},
   "source": [
    "### Q3. How do you interpret the slope and intercept in a linear regression model? Provide an example using a real-world scenario."
   ]
  },
  {
   "cell_type": "markdown",
   "id": "1c3ddd0d",
   "metadata": {},
   "source": [
    "The easiest way to understand and interpret slope and intercept in linear models is to first understand the slope-intercept formula: y = mx + b. M is the slope or the consistent change between x and y, and b is the y-intercept. Often, the y-intercept represents the starting point of the equation.The slope indicates the steepness of a line and the intercept indicates the location where it intersects an axis. The slope and the intercept define the linear relationship between two variables, and can be used to estimate an average rate of change."
   ]
  },
  {
   "cell_type": "markdown",
   "id": "adf9a7ac",
   "metadata": {},
   "source": [
    "### Q4. Explain the concept of gradient descent. How is it used in machine learning?"
   ]
  },
  {
   "cell_type": "markdown",
   "id": "d754576b",
   "metadata": {},
   "source": [
    "Gradient descent is an optimization algorithm which is commonly-used to train machine learning models and neural networks. Training data helps these models learn over time, and the cost function within gradient descent specifically acts as a barometer, gauging its accuracy with each iteration of parameter updates."
   ]
  },
  {
   "cell_type": "markdown",
   "id": "c202a6ce",
   "metadata": {},
   "source": [
    "### Q5. Describe the multiple linear regression model. How does it differ from simple linear regression?"
   ]
  },
  {
   "cell_type": "markdown",
   "id": "dff85bcf",
   "metadata": {},
   "source": [
    "Multiple linear regression is a regression model that estimates the relationship between a quantitative dependent variable and two or more independent variables using a straight line.Multiple linear regression is a more specific calculation than simple linear regression. For straight-forward relationships, simple linear regression may easily capture the relationship between the two variables. For more complex relationships requiring more consideration, multiple linear regression is often better."
   ]
  },
  {
   "cell_type": "markdown",
   "id": "0407a99e",
   "metadata": {},
   "source": [
    "### Q6. Explain the concept of multicollinearity in multiple linear regression. How can you detect and address this issue?"
   ]
  },
  {
   "cell_type": "markdown",
   "id": "6e834e32",
   "metadata": {},
   "source": [
    "Multicollinearity occurs when two or more independent variables in a data frame have a high correlation with one another in a regression model. This means that one independent variable can be predicted from another in a regression model."
   ]
  },
  {
   "cell_type": "markdown",
   "id": "ec8ec6e5",
   "metadata": {},
   "source": [
    "### Q7. Describe the polynomial regression model. How is it different from linear regression?"
   ]
  },
  {
   "cell_type": "markdown",
   "id": "77989914",
   "metadata": {},
   "source": [
    "A polynomial regression model is a machine learning model that can capture non-linear relationships between variables by fitting a non-linear regression line, which may not be possible with simple linear regression. It is used when linear regression models may not adequately capture the complexity of the relationship."
   ]
  },
  {
   "cell_type": "markdown",
   "id": "e413adae",
   "metadata": {},
   "source": [
    "### Q8. What are the advantages and disadvantages of polynomial regression compared to linear regression? In what situations would you prefer to use polynomial regression?"
   ]
  },
  {
   "cell_type": "markdown",
   "id": "aebfcbfe",
   "metadata": {},
   "source": [
    "Advantages of using Polynomial Regression:\n",
    "Polynomial provides the best approximation of the relationship between the dependent and independent variable. A Broad range of function can be fit under it. Polynomial basically fits a wide range of curvature.\n",
    "\n",
    "Disadvantages of Polynomial Regression\n",
    "\n",
    "One or two outliers in the data might have a significant impact on the nonlinear analysis' outcomes. These are overly reliant on outliers. Furthermore, there are fewer model validation methods for detecting outliers in nonlinear regression than there are for linear regression."
   ]
  },
  {
   "cell_type": "code",
   "execution_count": null,
   "id": "87746de6",
   "metadata": {},
   "outputs": [],
   "source": []
  }
 ],
 "metadata": {
  "kernelspec": {
   "display_name": "Python 3 (ipykernel)",
   "language": "python",
   "name": "python3"
  },
  "language_info": {
   "codemirror_mode": {
    "name": "ipython",
    "version": 3
   },
   "file_extension": ".py",
   "mimetype": "text/x-python",
   "name": "python",
   "nbconvert_exporter": "python",
   "pygments_lexer": "ipython3",
   "version": "3.10.9"
  }
 },
 "nbformat": 4,
 "nbformat_minor": 5
}
