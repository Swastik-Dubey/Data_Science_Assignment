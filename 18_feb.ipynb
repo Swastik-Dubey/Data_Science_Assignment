{
 "cells": [
  {
   "cell_type": "markdown",
   "id": "fa27dd29",
   "metadata": {},
   "source": [
    "# Q1. What is an API? Give an example, where an API is used in real life."
   ]
  },
  {
   "cell_type": "markdown",
   "id": "0ceccc1b",
   "metadata": {},
   "source": [
    "Ans.APIs are mechanisms that enable two software components to communicate with each other using a set of definitions and protocols. For example, the weather bureau's software system contains daily weather data. The weather app on your phone “talks” to this system via APIs and shows you daily weather updates on your phone.Online Payment Systems:- Where digital money transfers occur, there is an API supporting the process. Many organizations choose to utilize APIs from a firm such as PayPal to provide secure, safe money transfers to their customers."
   ]
  },
  {
   "cell_type": "markdown",
   "id": "2b2ed93a",
   "metadata": {},
   "source": [
    "# Q2. Give advantages and disadvantages of using API."
   ]
  },
  {
   "cell_type": "markdown",
   "id": "9e0fb353",
   "metadata": {},
   "source": [
    "Ans.\n",
    "Advantages:\n",
    "\n",
    "Increased Interoperability: API solutions enable different software systems to communicate with each other, regardless of their programming language or platform. This enhances the interoperability between systems, allowing for the exchange of data and functionality.\n",
    "\n",
    "Improved Efficiency: API driven infrastructures enable developers to reuse code and functionality from existing software systems, saving time and reducing the amount of code that needs to be written from scratch.\n",
    "\n",
    "Better User Experience: APIs can enable third-party developers to create applications that integrate with existing software systems, providing a better user experience and increased functionality.\n",
    "\n",
    "Increased Flexibility: APIs provide developers with greater flexibility, enabling them to choose the best programming languages and frameworks for their needs.\n",
    "\n",
    "New Revenue Streams: APIs can enable companies to create new revenue streams by providing third-party developers with access to their software systems."
   ]
  },
  {
   "cell_type": "markdown",
   "id": "ae30d483",
   "metadata": {},
   "source": [
    "Disadvantages:\n",
    "\n",
    "Security Concerns: API infrastructures can be vulnerable to security breaches, such as SQL injection attacks and cross-site scripting (XSS) attacks, making it crucial to implement security measures to protect against these threats.\n",
    "\n",
    "Complexity: APIs can be complex, requiring a significant amount of development effort to implement and maintain.\n",
    "\n",
    "Compatibility Issues: APIs can have compatibility issues between different versions of the same software system or between different systems, which can lead to errors and system failures.\n",
    "\n",
    "Dependency on Third-Party Developers: APIs rely on third-party developers to create applications that integrate with the software system. This can create dependencies that are outside of the control of the company that owns the software system.\n",
    "\n",
    "Governance and Management: APIs require proper governance and management to ensure they are being used correctly and consistently across different applications and systems."
   ]
  },
  {
   "cell_type": "markdown",
   "id": "43954e45",
   "metadata": {},
   "source": [
    "# Q3. What is a Web API? Differentiate between API and Web API."
   ]
  },
  {
   "cell_type": "markdown",
   "id": "38e24423",
   "metadata": {},
   "source": [
    "Ans. Web API is an extensible framework for building HTTP based services that can be accessed in different applications on different platforms such as web, windows, mobile etc. \n",
    "API is an interface that exposes an application's data to outside software, whereas web applications are one type of API with stricter requirements."
   ]
  },
  {
   "cell_type": "markdown",
   "id": "4b6d03a4",
   "metadata": {},
   "source": [
    "# Q4. Explain REST and SOAP Architecture. Mention shortcomings of SOAP."
   ]
  },
  {
   "cell_type": "markdown",
   "id": "cca8d0cc",
   "metadata": {},
   "source": [
    "Ans.REST stands for REpresentational State Transfer and API stands for Application Program Interface. REST is a software architectural style that defines the set of rules to be used for creating web services. Web services which follow the REST architectural style are known as RESTful web services. It allows requesting systems to access and manipulate web resources by using a uniform and predefined set of rules. Interaction in REST based systems happen through Internet’s Hypertext Transfer Protocol (HTTP). \n",
    "\n",
    "A Restful system consists of a:\n",
    "\n",
    "client who requests for the resources.,\n",
    "server who has the resources.\n",
    "\n",
    "It is important to create REST API according to industry standards which results in ease of development and increase client adoption. \n",
    "\n",
    "Architectural Constraints of RESTful API: There are six architectural constraints which makes any web service are listed below:\n",
    "\n",
    "Uniform Interface,\n",
    "Stateless,\n",
    "Cacheable,\n",
    "Client-Server,\n",
    "Layered System,\n",
    "Code on Demand\n",
    "\n",
    "The only optional constraint of REST architecture is code on demand. If a service violates any other constraint, it cannot strictly be referred to as RESTful. "
   ]
  },
  {
   "cell_type": "markdown",
   "id": "85f36689",
   "metadata": {},
   "source": [
    "Simple Object Access Protocol(SOAP) is a network protocol for exchanging structured data between nodes. It uses XML format to transfer messages. It works on top of application layer protocols like HTML and SMTP for notations and transmission. SOAP allows processes to communicate throughout platforms, languages and operating systems, since protocols like HTTP are already installed on all platforms."
   ]
  },
  {
   "cell_type": "markdown",
   "id": "78d53760",
   "metadata": {},
   "source": [
    "Message Format:\n",
    "\n",
    "SOAP message transmits some basic information as given below\n",
    "Information about message structure and instructions on processing it.,\n",
    "Encoding instructions for application defined data types.,\n",
    "Information about Remote Procedure Calls and their responses.\n",
    "\n",
    "The message in XML format contains three parts\n",
    "\n",
    "Envelope:\n",
    "It specifies that the XML message is a SOAP message. A SOAP message can be defined as an XML document containing header and body encapsulated in the envelope. The fault is within the body of the message.\n",
    "\n",
    "Header:\n",
    "This part is not mandatory. But when it is present it can provide crucial information about the applications.\n",
    "\n",
    "Body:\n",
    "It contains the actual message that is being transmitted. Fault is contained within the body tags.\n",
    "\n",
    "Fault:\n",
    "This section contains the status of the application and also contains errors in the application. This section is also optional. It should not appear more than once in a SOAP message."
   ]
  },
  {
   "cell_type": "markdown",
   "id": "2be82ae8",
   "metadata": {},
   "source": [
    "# Q5. Differentiate between REST and SOAP."
   ]
  },
  {
   "cell_type": "code",
   "execution_count": 1,
   "id": "e0149beb",
   "metadata": {},
   "outputs": [
    {
     "data": {
      "text/plain": [
       "\"\\nNo.\\tSOAP\\t                                                              REST\\n1)\\tSOAP is a protocol.\\t                                 REST is an architectural style.\\n2)\\tSOAP stands for Simple Object Access Protocol.\\t REST stands for REpresentational State Transfer.\\n3)\\tSOAP can't use REST because it is a protocol.\\tREST can use SOAP web services because it is a concept and can use any protocol like HTTP, SOAP.\\n4)\\tSOAP uses services interfaces to expose the business logic.\\tREST uses URI to expose business logic.\\n5)\\tJAX-WS is the java API for SOAP web services.\\tJAX-RS is the java API for RESTful web services.\\n6)\\tSOAP defines standards to be strictly followed.\\tREST does not define too much standards like SOAP.\\n7)\\tSOAP requires more bandwidth and resource than REST.\\tREST requires less bandwidth and resource than SOAP.\\n8)\\tSOAP defines its own security.\\tRESTful web services inherits security measures from the underlying transport.\\n9)\\tSOAP permits XML data format only.\\tREST permits different data format such as Plain text, HTML, XML, JSON etc.\\n10)\\tSOAP is less preferred than REST.\\tREST more preferred than SOAP.\""
      ]
     },
     "execution_count": 1,
     "metadata": {},
     "output_type": "execute_result"
    }
   ],
   "source": [
    "\"\"\"\n",
    "No.\tSOAP\t                                                              REST\n",
    "1)\tSOAP is a protocol.\t                                 REST is an architectural style.\n",
    "2)\tSOAP stands for Simple Object Access Protocol.\t REST stands for REpresentational State Transfer.\n",
    "3)\tSOAP can't use REST because it is a protocol.\tREST can use SOAP web services because it is a concept and can use any protocol like HTTP, SOAP.\n",
    "4)\tSOAP uses services interfaces to expose the business logic.\tREST uses URI to expose business logic.\n",
    "5)\tJAX-WS is the java API for SOAP web services.\tJAX-RS is the java API for RESTful web services.\n",
    "6)\tSOAP defines standards to be strictly followed.\tREST does not define too much standards like SOAP.\n",
    "7)\tSOAP requires more bandwidth and resource than REST.\tREST requires less bandwidth and resource than SOAP.\n",
    "8)\tSOAP defines its own security.\tRESTful web services inherits security measures from the underlying transport.\n",
    "9)\tSOAP permits XML data format only.\tREST permits different data format such as Plain text, HTML, XML, JSON etc.\n",
    "10)\tSOAP is less preferred than REST.\tREST more preferred than SOAP.\"\"\""
   ]
  },
  {
   "cell_type": "code",
   "execution_count": null,
   "id": "11c68c18",
   "metadata": {},
   "outputs": [],
   "source": []
  }
 ],
 "metadata": {
  "kernelspec": {
   "display_name": "Python 3 (ipykernel)",
   "language": "python",
   "name": "python3"
  },
  "language_info": {
   "codemirror_mode": {
    "name": "ipython",
    "version": 3
   },
   "file_extension": ".py",
   "mimetype": "text/x-python",
   "name": "python",
   "nbconvert_exporter": "python",
   "pygments_lexer": "ipython3",
   "version": "3.9.16"
  }
 },
 "nbformat": 4,
 "nbformat_minor": 5
}
