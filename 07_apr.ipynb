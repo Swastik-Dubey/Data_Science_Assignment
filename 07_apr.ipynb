{
 "cells": [
  {
   "cell_type": "markdown",
   "id": "fc6cafc1-5255-48a1-9ce8-b014813e8385",
   "metadata": {},
   "source": [
    "Q1. What is the relationship between polynomial functions and kernel functions in machine learning\r\n",
    "algorithms?"
   ]
  },
  {
   "cell_type": "markdown",
   "id": "a9bafea6-696d-45c9-a9a0-1a237786da94",
   "metadata": {},
   "source": [
    "In machine learning, kernel functions play a crucial role in Support Vector Machines (SVMs), both in classification (SVC) and regression (SVR) tasks. Polynomial functions are a type of kernel function used in SVMs.\r\n",
    "\r\n",
    "Kernel Functions:\r\n",
    "Kernel functions are used to transform input data into a higher-dimensional space, making it possible to find a hyperplane that separates the data in a way that maximizes the margin between different classes or fits the regression problem well. They allow SVMs to operate in a high-dimensional space without explicitly calculating the transformed feature vectors.\r\n",
    "\r\n",
    "Polynomial Kernel Function:"
   ]
  },
  {
   "attachments": {
    "b052728c-19df-454c-b042-8b8dc05323a3.png": {
     "image/png": "[encoded data removed]"
    }
   },
   "cell_type": "markdown",
   "id": "9b10da5a-f1b1-43c1-92a9-51176facf953",
   "metadata": {},
   "source": [
    "![image.png](attachment:b052728c-19df-454c-b042-8b8dc05323a3.png)"
   ]
  },
  {
   "cell_type": "markdown",
   "id": "75543df2-49b0-42e4-aea3-9277ba734e01",
   "metadata": {},
   "source": [
    "Relationship:\r\n",
    "Polynomial functions are a specific type of kernel function used in SVMs. When you choose the polynomial kernel for an SVM, you are essentially using a polynomial function as the similarity measure between data points. The degree of the polynomial (\r\n",
    "�\r\n",
    "d) is a hyperparameter that determines the complexity of the decision boundary.\r\n",
    "\r\n",
    "In summary, polynomial functions are a specific instance of kernel functions, and the polynomial kernel is one option among several for shaping the decision boundary in SVMs."
   ]
  },
  {
   "cell_type": "markdown",
   "id": "fe5e3756-797f-4aa2-b22e-f1bd06ff2aaa",
   "metadata": {},
   "source": [
    "Q2. How can we implement an SVM with a polynomial kernel in Python using Scikit-learn?"
   ]
  },
  {
   "cell_type": "code",
   "execution_count": 5,
   "id": "7bcfc0a1-8ed4-4c9b-befe-353e91d37535",
   "metadata": {},
   "outputs": [
    {
     "name": "stdout",
     "output_type": "stream",
     "text": [
      "Accuracy: 0.9666666666666667\n"
     ]
    },
    {
     "data": {
      "text/plain": [
       "['tuned_svc_model.pkl']"
      ]
     },
     "execution_count": 5,
     "metadata": {},
     "output_type": "execute_result"
    }
   ],
   "source": [
    "# Import necessary libraries\n",
    "from sklearn.datasets import load_iris\n",
    "from sklearn.model_selection import train_test_split\n",
    "from sklearn.preprocessing import StandardScaler\n",
    "from sklearn.svm import SVC\n",
    "from sklearn.metrics import accuracy_score\n",
    "from sklearn.model_selection import GridSearchCV\n",
    "import joblib\n",
    "\n",
    "# Load the Iris dataset\n",
    "iris = load_iris()\n",
    "X, y = iris.data, iris.target\n",
    "\n",
    "# Split the dataset into training and testing sets\n",
    "X_train, X_test, y_train, y_test = train_test_split(X, y, test_size=0.2, random_state=42)\n",
    "\n",
    "# Preprocess the data (scaling in this example)\n",
    "scaler = StandardScaler()\n",
    "X_train_scaled = scaler.fit_transform(X_train)\n",
    "X_test_scaled = scaler.transform(X_test)\n",
    "\n",
    "# Create an instance of the SVC classifier with a polynomial kernel\n",
    "svc = SVC(kernel='poly', degree=3, C=1.0)\n",
    "\n",
    "# Train the classifier on the training data\n",
    "svc.fit(X_train_scaled, y_train)\n",
    "\n",
    "# Use the trained classifier to predict labels of the testing data\n",
    "y_pred = svc.predict(X_test_scaled)\n",
    "\n",
    "# Evaluate the performance using accuracy as the metric\n",
    "accuracy = accuracy_score(y_test, y_pred)\n",
    "print(f'Accuracy: {accuracy}')\n",
    "\n",
    "# Tune hyperparameters using GridSearchCV\n",
    "param_grid = {'C': [0.1, 1, 10], 'degree': [2, 3, 4]}\n",
    "grid_search = GridSearchCV(SVC(kernel='poly'), param_grid, cv=3)\n",
    "grid_search.fit(X_train_scaled, y_train)\n",
    "# Get the best parameters\n",
    "best_params = grid_search.best_params_\n",
    "\n",
    "# Train the tuned classifier on the entire dataset\n",
    "tuned_svc = grid_search.best_estimator_\n",
    "tuned_svc.fit(X_train_scaled, y_train)  # Corrected variable name\n",
    "\n",
    "# Save the trained classifier to a file for future use\n",
    "joblib.dump(tuned_svc, 'tuned_svc_model.pkl')\n"
   ]
  },
  {
   "cell_type": "markdown",
   "id": "ff8ce366-8372-4640-be50-070d03dd47c3",
   "metadata": {},
   "source": [
    "Q3. How does increasing the value of epsilon affect the number of support vectors in SVR?"
   ]
  },
  {
   "cell_type": "markdown",
   "id": "b83fd58b-d767-4f14-b8d2-0396a415aa7e",
   "metadata": {},
   "source": [
    "In Support Vector Regression (SVR), epsilon (\r\n",
    "�\r\n",
    "ε) is a hyperparameter that controls the width of the margin of the support vector tube. Increasing the value of epsilon generally leads to a broader tube, allowing more data points to be within the margin without violating the margin constraints.\r\n",
    "\r\n",
    "As epsilon increases, the SVR model becomes more tolerant to errors, and fewer data points are treated as support vectors. Support vectors are data points that lie on the margin or within the margin, influencing the position and orientation of the hyperplane. A larger epsilon allows for a more flexible model that may fit the training data better but may also lead to overfitting."
   ]
  },
  {
   "cell_type": "markdown",
   "id": "3b4e59b4-c775-4bba-90fb-21590e1ddeea",
   "metadata": {},
   "source": [
    "Q4. How does the choice of kernel function, C parameter, epsilon parameter, and gamma parameter\r\n",
    "affect the performance of Support Vector Regression (SVR)? Can you explain how each parameter works\r\n",
    "and provide examples of when you might want to increase or decrease its value?"
   ]
  },
  {
   "cell_type": "markdown",
   "id": "f22bb32e-4433-41ce-8dec-279b24e50071",
   "metadata": {},
   "source": [
    "Kernel Function:\r\n",
    "Choice: The choice of kernel function determines the type of decision boundary. Common choices include linear, polynomial, radial basis function (RBF), and sigmoid kernels.\r\n",
    "Effect: Different kernels capture different types of relationships in the data. RBF is versatile and often used as a default.\r\n",
    "C Parameter:\r\n",
    "Role: Controls the trade-off between achieving a smooth fit and fitting the training data points exactly.\r\n",
    "Effect: Higher values of C lead to a more strict fit, potentially overfitting the training data, while lower values allow for a smoother fit.\r\n",
    "Epsilon Parameter:\r\n",
    "Role: Controls the width of the margin of the support vector tube.\r\n",
    "Effect: Larger values of epsilon lead to a broader margin, making the model more tolerant to errors but potentially reducing the number of support vectors.\r\n",
    "Gamma Parameter:\r\n",
    "Role: Influences the shape of the decision boundary for RBF and polynomial kernels.\r\n",
    "Effect: Higher values of gamma make the decision boundary more sensitive to the training data, potentially leading to overfitting."
   ]
  },
  {
   "cell_type": "markdown",
   "id": "e44eadf7-a353-4cf0-ab48-21fb3ee254b7",
   "metadata": {},
   "source": [
    "Q5. SVM Classifier Implementation and Hyperparameter Tuning\r\n"
   ]
  },
  {
   "cell_type": "code",
   "execution_count": 6,
   "id": "402fa4ad-318d-4d69-9d8f-0914440f93d5",
   "metadata": {},
   "outputs": [
    {
     "name": "stdout",
     "output_type": "stream",
     "text": [
      "Accuracy: 1.0\n"
     ]
    },
    {
     "data": {
      "text/plain": [
       "['tuned_svc_model.pkl']"
      ]
     },
     "execution_count": 6,
     "metadata": {},
     "output_type": "execute_result"
    }
   ],
   "source": [
    "# Import necessary libraries\n",
    "from sklearn.model_selection import train_test_split, GridSearchCV\n",
    "from sklearn.preprocessing import StandardScaler\n",
    "from sklearn.svm import SVC\n",
    "from sklearn.metrics import accuracy_score\n",
    "import joblib\n",
    "from sklearn.datasets import load_iris\n",
    "\n",
    "# Load the dataset (Iris dataset for example)\n",
    "iris = load_iris()\n",
    "X, y = iris.data, iris.target\n",
    "\n",
    "# Split the dataset into training and testing sets\n",
    "X_train, X_test, y_train, y_test = train_test_split(X, y, test_size=0.2, random_state=42)\n",
    "\n",
    "# Preprocess the data (scaling)\n",
    "scaler = StandardScaler()\n",
    "X_train_scaled = scaler.fit_transform(X_train)\n",
    "X_test_scaled = scaler.transform(X_test)\n",
    "\n",
    "# Create an instance of the SVC classifier\n",
    "svc = SVC(kernel='rbf', C=1.0, gamma='scale', random_state=42)\n",
    "\n",
    "# Train the classifier on the training data\n",
    "svc.fit(X_train_scaled, y_train)\n",
    "\n",
    "# Use the trained classifier to predict labels of the testing data\n",
    "y_pred = svc.predict(X_test_scaled)\n",
    "\n",
    "# Evaluate the performance using accuracy\n",
    "accuracy = accuracy_score(y_test, y_pred)\n",
    "print(f'Accuracy: {accuracy}')\n",
    "\n",
    "# Tune hyperparameters using GridSearchCV\n",
    "param_grid = {'C': [0.1, 1, 10], 'gamma': ['scale', 'auto'], 'kernel': ['rbf', 'linear']}\n",
    "grid_search = GridSearchCV(SVC(), param_grid, cv=3)\n",
    "grid_search.fit(X_train_scaled, y_train)\n",
    "\n",
    "# Get the best parameters\n",
    "best_params = grid_search.best_params_\n",
    "\n",
    "# Train the tuned classifier on the entire dataset\n",
    "tuned_svc = grid_search.best_estimator_\n",
    "tuned_svc.fit(X, y)  # Using the entire dataset for training in this example\n",
    "\n",
    "# Save the trained classifier to a file for future use\n",
    "joblib.dump(tuned_svc, 'tuned_svc_model.pkl')\n"
   ]
  },
  {
   "cell_type": "code",
   "execution_count": null,
   "id": "7f4856c4-a04f-44ff-bf16-0059b730ba92",
   "metadata": {},
   "outputs": [],
   "source": []
  }
 ],
 "metadata": {
  "kernelspec": {
   "display_name": "Python 3 (ipykernel)",
   "language": "python",
   "name": "python3"
  },
  "language_info": {
   "codemirror_mode": {
    "name": "ipython",
    "version": 3
   },
   "file_extension": ".py",
   "mimetype": "text/x-python",
   "name": "python",
   "nbconvert_exporter": "python",
   "pygments_lexer": "ipython3",
   "version": "3.11.5"
  }
 },
 "nbformat": 4,
 "nbformat_minor": 5
}
