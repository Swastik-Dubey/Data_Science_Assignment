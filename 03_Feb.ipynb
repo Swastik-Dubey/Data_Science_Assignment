{
 "cells": [
  {
   "cell_type": "markdown",
   "id": "e815ae55",
   "metadata": {},
   "source": [
    "# Q1. Which keyword is used to create a function? Create a function to return a list of odd numbers in the range of 1 to 25.\n",
    "Ans.The def keyword is used to create, (or define) a function.In python, a function is a logical unit of code containing a sequence of statements indented under a name given using the “def” keyword. In python def keyword is the most used keyword."
   ]
  },
  {
   "cell_type": "code",
   "execution_count": 3,
   "id": "588b1153",
   "metadata": {},
   "outputs": [
    {
     "data": {
      "text/plain": [
       "[1, 3, 5, 7, 9, 11, 13, 15, 17, 19, 21, 23]"
      ]
     },
     "execution_count": 3,
     "metadata": {},
     "output_type": "execute_result"
    }
   ],
   "source": [
    "def odd():\n",
    "    l=[]\n",
    "    for i in range(1,25):\n",
    "        if i%2!=0:\n",
    "            l.append(i)\n",
    "    return l\n",
    "odd()"
   ]
  },
  {
   "cell_type": "markdown",
   "id": "0dc101ea",
   "metadata": {},
   "source": [
    "# Q2. Why *args and **kwargs is used in some functions? Create a function each for *args and **kwargs to demonstrate their use.\n",
    "Ans. You can use *args and **kwargs as arguments of a function when you are unsure about the number of arguments to pass in the functions..The args stands for arguments that are passed to the function whereas kwargs stands for keyword arguments which are passed along with the values into the function."
   ]
  },
  {
   "cell_type": "code",
   "execution_count": 6,
   "id": "f0cf07b9",
   "metadata": {},
   "outputs": [
    {
     "data": {
      "text/plain": [
       "('sudh', [1, 2, 3, 4, 5], (1, 2, 3, 4, 5))"
      ]
     },
     "execution_count": 6,
     "metadata": {},
     "output_type": "execute_result"
    }
   ],
   "source": [
    "def test1(*args):\n",
    "    return args\n",
    "test1(\"sudh\" , [1,2,3,4,5] , (1,2,3,4,5))"
   ]
  },
  {
   "cell_type": "code",
   "execution_count": 7,
   "id": "e94576db",
   "metadata": {},
   "outputs": [
    {
     "data": {
      "text/plain": [
       "{'a': 34, 'b': 23, 'c': [1, 2, 3, 4], 'd': ('sudh', 'pwskills')}"
      ]
     },
     "execution_count": 7,
     "metadata": {},
     "output_type": "execute_result"
    }
   ],
   "source": [
    "def test5(**kwargs):\n",
    "    return kwargs\n",
    "test5(a = 34 , b = 23 , c = [1,2,3,4] , d = (\"sudh\" , \"pwskills\"))"
   ]
  },
  {
   "cell_type": "markdown",
   "id": "824d0ff3",
   "metadata": {},
   "source": [
    "# Q3. What is an iterator in python? Name the method used to initialise the iterator object and the method used for iteration. Use these methods to print the first five elements of the given list [2, 4, 6, 8, 10, 12, 14, 16,18, 20].\n",
    "\n",
    "Ans. An iterator is an object that contains a countable number of values.\n",
    "\n"
   ]
  },
  {
   "cell_type": "code",
   "execution_count": 8,
   "id": "63a5b512",
   "metadata": {
    "scrolled": false
   },
   "outputs": [
    {
     "data": {
      "text/plain": [
       "'The iterator object is initialized using the iter() method. It uses the next() method for iteration.\\n\\n__iter__(): The iter() method is called for the initialization of an iterator. This returns an iterator object\\n__next__(): The next method returns the next value for the iterable. When we use a for loop to traverse any iterable object,\\n            internally it uses the iter() method to get an iterator object, which further uses the next() method to iterate over. \\n            This method raises a StopIteration to signal the end of the iteration.'"
      ]
     },
     "execution_count": 8,
     "metadata": {},
     "output_type": "execute_result"
    }
   ],
   "source": [
    "'''The iterator object is initialized using the iter() method. It uses the next() method for iteration.\n",
    "\n",
    "__iter__(): The iter() method is called for the initialization of an iterator. This returns an iterator object\n",
    "__next__(): The next method returns the next value for the iterable. When we use a for loop to traverse any iterable object,\n",
    "            internally it uses the iter() method to get an iterator object, which further uses the next() method to iterate over. \n",
    "            This method raises a StopIteration to signal the end of the iteration.'''"
   ]
  },
  {
   "cell_type": "code",
   "execution_count": 9,
   "id": "b959bbad",
   "metadata": {},
   "outputs": [
    {
     "name": "stdout",
     "output_type": "stream",
     "text": [
      "G\n",
      "F\n",
      "G\n"
     ]
    }
   ],
   "source": [
    "string = \"GFG\"\n",
    "ch_iterator = iter(string)\n",
    "\n",
    "print(next(ch_iterator))\n",
    "print(next(ch_iterator))\n",
    "print(next(ch_iterator))\n"
   ]
  },
  {
   "cell_type": "markdown",
   "id": "6d91918a",
   "metadata": {},
   "source": [
    "# Q4. What is a generator function in python? Why yield keyword is used? Give an example of a generator function.\n",
    "Ans. A Python generator function allows you to declare a function that behaves like an iterator, providing a faster and easier way to create iterators. They can be used on an abstract container of data to turn it into an iterable object like lists, dictionaries and strings.the yield keyword will convert an expression that is specified along with it to a generator object and return it to the caller. Hence, if you want to get the values stored inside the generator object, you need to iterate over it"
   ]
  },
  {
   "cell_type": "code",
   "execution_count": 10,
   "id": "b8b03c97",
   "metadata": {},
   "outputs": [],
   "source": [
    "def test_fib(n) :\n",
    "    a,b = 0,1\n",
    "    for i in range(n):\n",
    "        yield a \n",
    "        a,b = b ,a+b "
   ]
  },
  {
   "cell_type": "code",
   "execution_count": 11,
   "id": "0a206ab9",
   "metadata": {},
   "outputs": [
    {
     "name": "stdout",
     "output_type": "stream",
     "text": [
      "0\n",
      "1\n",
      "1\n",
      "2\n",
      "3\n",
      "5\n",
      "8\n",
      "13\n",
      "21\n",
      "34\n"
     ]
    }
   ],
   "source": [
    "for i in test_fib(10) : \n",
    "    print(i)"
   ]
  },
  {
   "cell_type": "markdown",
   "id": "8edaccbd",
   "metadata": {},
   "source": [
    "# Q5. Create a generator function for prime numbers less than 1000. Use the next() method to print the  first 20 prime numbers."
   ]
  },
  {
   "cell_type": "code",
   "execution_count": 20,
   "id": "98da2279",
   "metadata": {},
   "outputs": [],
   "source": [
    "from math import sqrt\n",
    "\n",
    "def is_prime(n):\n",
    "    if (n <= 1):\n",
    "        return False\n",
    "    if (n == 2):\n",
    "        return True\n",
    "    if (n % 2 == 0):\n",
    "        return False\n",
    "\n",
    "    i = 3\n",
    "    while i <= sqrt(n):\n",
    "        if n % i == 0:\n",
    "            return False\n",
    "        i = i + 2\n",
    "\n",
    "    return True"
   ]
  },
  {
   "cell_type": "code",
   "execution_count": 21,
   "id": "7fc5ca5b",
   "metadata": {},
   "outputs": [],
   "source": [
    "def prime_generator(a):\n",
    "    n = 1\n",
    "    while n<a:\n",
    "        n += 1\n",
    "        if is_prime(n):\n",
    "            yield n"
   ]
  },
  {
   "cell_type": "code",
   "execution_count": 22,
   "id": "c84c293f",
   "metadata": {},
   "outputs": [
    {
     "data": {
      "text/plain": [
       "<generator object prime_generator at 0x000001F667DCA660>"
      ]
     },
     "execution_count": 22,
     "metadata": {},
     "output_type": "execute_result"
    }
   ],
   "source": [
    " \n",
    "prime_generator(20)"
   ]
  },
  {
   "cell_type": "code",
   "execution_count": 23,
   "id": "f52d7648",
   "metadata": {},
   "outputs": [
    {
     "name": "stdout",
     "output_type": "stream",
     "text": [
      "2\n",
      "3\n",
      "5\n",
      "7\n",
      "11\n",
      "13\n",
      "17\n",
      "19\n"
     ]
    }
   ],
   "source": [
    "for i in prime_generator(20) : \n",
    "    print(i)"
   ]
  },
  {
   "cell_type": "code",
   "execution_count": 31,
   "id": "07fccec7",
   "metadata": {},
   "outputs": [
    {
     "name": "stdout",
     "output_type": "stream",
     "text": [
      "2\n",
      "3\n",
      "5\n",
      "7\n"
     ]
    }
   ],
   "source": [
    "ch_iterator = iter(prime_generator(20))\n",
    "\n",
    "print(next(ch_iterator))\n",
    "print(next(ch_iterator))\n",
    "print(next(ch_iterator))\n",
    "print(next(ch_iterator))"
   ]
  },
  {
   "cell_type": "code",
   "execution_count": null,
   "id": "f6e014a4",
   "metadata": {},
   "outputs": [],
   "source": []
  }
 ],
 "metadata": {
  "kernelspec": {
   "display_name": "Python 3 (ipykernel)",
   "language": "python",
   "name": "python3"
  },
  "language_info": {
   "codemirror_mode": {
    "name": "ipython",
    "version": 3
   },
   "file_extension": ".py",
   "mimetype": "text/x-python",
   "name": "python",
   "nbconvert_exporter": "python",
   "pygments_lexer": "ipython3",
   "version": "3.9.16"
  }
 },
 "nbformat": 4,
 "nbformat_minor": 5
}
