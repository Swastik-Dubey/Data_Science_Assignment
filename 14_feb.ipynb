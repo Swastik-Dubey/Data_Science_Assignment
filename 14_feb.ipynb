{
 "cells": [
  {
   "cell_type": "markdown",
   "id": "ecb4dd15",
   "metadata": {},
   "source": [
    "# Q.1 )what is multithreading in python? why is it used? Name the module used to handle threads in python"
   ]
  },
  {
   "cell_type": "markdown",
   "id": "2109fec1",
   "metadata": {},
   "source": [
    "Ans.Multithreading refers to concurrently executing multiple threads by rapidly switching the control of the CPU between threads (called context switching).Python multithreading enables efficient utilization of the resources as the threads share the data space and memory. Multithreading in Python allows the concurrent and parallel occurrence of various tasks. It causes a reduction in time consumption or response time, thereby increasing the performance."
   ]
  },
  {
   "cell_type": "markdown",
   "id": "f9dacb21",
   "metadata": {},
   "source": [
    "There are two main modules of multithreading used to handle threads in Python.:-\n",
    "The thread module.,\n",
    "The threading module."
   ]
  },
  {
   "cell_type": "markdown",
   "id": "6e8aede0",
   "metadata": {},
   "source": [
    "Thread modules:-\n",
    "It is started with Python 3, designated as obsolete, and can only be accessed with _thread that supports backward compatibility."
   ]
  },
  {
   "cell_type": "markdown",
   "id": "0fddcf54",
   "metadata": {},
   "source": [
    "Threading Modules:-\n",
    "The threading module is a high-level implementation of multithreading used to deploy an application in Python. To use multithreading, we need to import the threading module in Python Program."
   ]
  },
  {
   "cell_type": "markdown",
   "id": "0c90fd56",
   "metadata": {},
   "source": [
    "# Q.2)Why threading module used? write the use of the following functions\n",
    "( activeCount(),\n",
    " currentThread(),\n",
    " enumerate())"
   ]
  },
  {
   "cell_type": "markdown",
   "id": "c9bfd0fb",
   "metadata": {},
   "source": [
    "Ans.Python threading allows you to have different parts of your program run concurrently and can simplify your design. "
   ]
  },
  {
   "cell_type": "markdown",
   "id": "21706003",
   "metadata": {},
   "source": [
    "threading.activeCount() − Returns the number of thread objects that are active.\n",
    "\n",
    "threading.currentThread() − Returns the number of thread objects in the caller's thread control.\n",
    "\n",
    "threading.enumerate() − Returns a list of all thread objects that are currently active."
   ]
  },
  {
   "cell_type": "markdown",
   "id": "e134af33",
   "metadata": {},
   "source": [
    "# Q3. Explain the following functions\n",
    "( run(),\n",
    " start(),\n",
    " join(),\n",
    "' isAlive())"
   ]
  },
  {
   "cell_type": "markdown",
   "id": "4b275a1e",
   "metadata": {},
   "source": [
    "Ans.the threading module has the Thread class that implements threading. The methods provided by the Thread class are as follows −"
   ]
  },
  {
   "cell_type": "markdown",
   "id": "b316cf02",
   "metadata": {},
   "source": [
    "run() − The run() method is the entry point for a thread.\n",
    "\n",
    "start() − The start() method starts a thread by calling the run method.\n",
    "\n",
    "join([time]) − The join() waits for threads to terminate.\n",
    "\n",
    "isAlive() − The isAlive() method checks whether a thread is still executing."
   ]
  },
  {
   "cell_type": "markdown",
   "id": "ed6b8de7",
   "metadata": {},
   "source": [
    "# Q4. Write a python program to create two threads. Thread one must print the list of squares and thread two must print the list of cubes"
   ]
  },
  {
   "cell_type": "code",
   "execution_count": 16,
   "id": "110a95a8",
   "metadata": {},
   "outputs": [
    {
     "name": "stdout",
     "output_type": "stream",
     "text": [
      "Square : [4, 9, 16, 25]\n",
      "Cube : [8, 27, 64, 125]\n"
     ]
    }
   ],
   "source": [
    "# Python program to illustrate the concept\n",
    "# of threading\n",
    "# importing the threading module\n",
    "import threading\n",
    "\n",
    "square=[]\n",
    "cube=[]\n",
    "def print_cube(num):\n",
    "    \n",
    "    a=num * num * num\n",
    "    cube.append(a)\n",
    "   \n",
    "\n",
    "\n",
    "def print_square(num):\n",
    "    b=num*num\n",
    "    square.append(b)\n",
    "  \n",
    "\n",
    "\n",
    "\n",
    "# creating thread\n",
    "t1 = [threading.Thread(target=print_square, args=(i,))for i in [2,3,4,5]]\n",
    "t2 = [threading.Thread(target=print_cube, args=(i,))for i in [2 , 3,4,5]]\n",
    "\n",
    "# starting thread 1\n",
    "for t in t1:\n",
    "    t.start()\n",
    "# starting thread 2\n",
    "for t in t2:\n",
    "    t.start()\n",
    "\n",
    "    \n",
    "# both threads completely executed\n",
    "print(\"Square : {}\".format(square))\n",
    "print(\"Cube : {}\".format(cube))\n"
   ]
  },
  {
   "cell_type": "markdown",
   "id": "25354dcc",
   "metadata": {},
   "source": [
    "# Q5. State advantages and disadvantages of multithreading"
   ]
  },
  {
   "cell_type": "markdown",
   "id": "a7e8b8b7",
   "metadata": {},
   "source": [
    "Ans.\n",
    "Advantages:\n",
    "\n",
    "Thread switching does not require Kernel mode privileges.\n",
    "\n",
    "User level thread can run on any operating system.\n",
    "\n",
    "Scheduling can be application specific in the user level thread.\n",
    "\n",
    "User level threads are fast to create and manage."
   ]
  },
  {
   "cell_type": "markdown",
   "id": "a1932f28",
   "metadata": {},
   "source": [
    "Disadvantages:\n",
    "\n",
    "In a typical operating system, most system calls are blocking.\n",
    "\n",
    "Multithreaded application cannot take advantage of multiprocessing."
   ]
  },
  {
   "cell_type": "markdown",
   "id": "8d33682c",
   "metadata": {},
   "source": [
    "# Q6. Explain deadlocks and race conditions."
   ]
  },
  {
   "cell_type": "markdown",
   "id": "2a971e01",
   "metadata": {},
   "source": [
    "Ans.When two processes are waiting for each other directly or indirectly, it is called deadlock.\n",
    "\n",
    "This usually occurs when two processes are waiting for shared resources acquired by others. For example, If thread T1 acquired resource R1 and it also needs resource R2 for it to accomplish its task. But the resource R2 is acquired by thread T2 which is waiting for resource R1(which is acquired by T1).. Neither of them will be able to accomplish its task, as they keep waiting for the other resources they need."
   ]
  },
  {
   "cell_type": "markdown",
   "id": "bf57c2c0",
   "metadata": {},
   "source": [
    "When two processes are competing with each other causing data corruption.\n",
    "A race condition means that your program's result might depend on the order of execution of the individual steps. This becomes essential in concurrent programs that can run multiple threads of execution simultaneously through context switching, and they access a shared resource like a variable.\n"
   ]
  },
  {
   "cell_type": "code",
   "execution_count": null,
   "id": "f59d0fb7",
   "metadata": {},
   "outputs": [],
   "source": []
  }
 ],
 "metadata": {
  "kernelspec": {
   "display_name": "Python 3 (ipykernel)",
   "language": "python",
   "name": "python3"
  },
  "language_info": {
   "codemirror_mode": {
    "name": "ipython",
    "version": 3
   },
   "file_extension": ".py",
   "mimetype": "text/x-python",
   "name": "python",
   "nbconvert_exporter": "python",
   "pygments_lexer": "ipython3",
   "version": "3.9.16"
  }
 },
 "nbformat": 4,
 "nbformat_minor": 5
}
