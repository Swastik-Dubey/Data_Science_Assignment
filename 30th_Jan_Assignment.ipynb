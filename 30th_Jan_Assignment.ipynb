{
 "cells": [
  {
   "cell_type": "code",
   "execution_count": 1,
   "id": "8b2b0460",
   "metadata": {},
   "outputs": [],
   "source": [
    "# Q.1)Write a program to accept percentage from user and display the grade according to the following criteria\n",
    "# Marks           Grade\n",
    "# >90               A\n",
    "#>80 and <=90       B\n",
    "#>=60 and <=80      C\n",
    "#below 60           D"
   ]
  },
  {
   "cell_type": "code",
   "execution_count": 4,
   "id": "101ae302",
   "metadata": {},
   "outputs": [
    {
     "name": "stdout",
     "output_type": "stream",
     "text": [
      "Enter the percentage :87\n",
      "Grade : B\n"
     ]
    }
   ],
   "source": [
    "marks=float(input(\"Enter the percentage :\"))\n",
    "if marks>90:\n",
    "    print(\"Grade : A\")\n",
    "elif marks>80 and marks<=90:\n",
    "    print(\"Grade : B\")\n",
    "elif marks>60 and marks<=80:\n",
    "    print(\"Grade : C\")\n",
    "else:\n",
    "    print(\"Grade : D\")\n",
    "    "
   ]
  },
  {
   "cell_type": "code",
   "execution_count": 5,
   "id": "91428241",
   "metadata": {},
   "outputs": [],
   "source": [
    "#Q.2) Write a program to accept the cost price of a bike and display the road tax to be paid according to following criteria:\n",
    "# Tax            Cost Price(in Rs)\n",
    "# 15%             >100000\n",
    "# 10%             >50000 and <=100000\n",
    "# 5%               <=50000"
   ]
  },
  {
   "cell_type": "code",
   "execution_count": 8,
   "id": "3faf791d",
   "metadata": {},
   "outputs": [
    {
     "name": "stdout",
     "output_type": "stream",
     "text": [
      "Enter cost price of your bike :60000\n",
      "Tax : 6000.0\n"
     ]
    }
   ],
   "source": [
    "price= int(input(\"Enter cost price of your bike :\"))\n",
    "\n",
    "if price>100000:\n",
    "    print(\"Tax :\",price*0.15)\n",
    "elif price>50000 and price<=100000:\n",
    "    print(\"Tax :\",price*0.10)\n",
    "else:\n",
    "    print(\"Tax :\",price*0.5)\n",
    "        "
   ]
  },
  {
   "cell_type": "code",
   "execution_count": 9,
   "id": "bb6649e0",
   "metadata": {},
   "outputs": [
    {
     "data": {
      "text/plain": [
       "'City           Monument\\nDelhi           Red Fort\\nAgra            Taj Mahal\\nJaipur           Jal Mahal'"
      ]
     },
     "execution_count": 9,
     "metadata": {},
     "output_type": "execute_result"
    }
   ],
   "source": [
    "#Q.3)Accept any city from the user and display monuments of that city.\n",
    "\"\"\"City           Monument\n",
    "Delhi           Red Fort\n",
    "Agra            Taj Mahal\n",
    "Jaipur           Jal Mahal\"\"\"\n",
    "\n",
    "\n"
   ]
  },
  {
   "cell_type": "code",
   "execution_count": 10,
   "id": "b57f2f01",
   "metadata": {},
   "outputs": [
    {
     "name": "stdout",
     "output_type": "stream",
     "text": [
      "Enter the City name :Agra\n",
      "Monument : Taj Mahal\n"
     ]
    }
   ],
   "source": [
    "city=input(\"Enter the City name :\")\n",
    "if city==\"Delhi\":\n",
    "    print(\"Monument : Red Fort\")\n",
    "elif city==\"Agra\":\n",
    "    print(\"Monument : Taj Mahal\")   \n",
    "elif city==\"Jaipur\":\n",
    "    print(\"Monument : Jal Mahal\")   \n",
    "else:\n",
    "    print(\"Sorry\")"
   ]
  },
  {
   "cell_type": "code",
   "execution_count": 7,
   "id": "10964be9",
   "metadata": {},
   "outputs": [
    {
     "name": "stdout",
     "output_type": "stream",
     "text": [
      "Enter the number :55\n",
      "2\n"
     ]
    }
   ],
   "source": [
    "#Q.4)Check how many times a  given number can be  divided by 3 before it is less than or equal to 10.\n",
    "n= int(input(\"Enter the number :\"))\n",
    "a=0\n",
    "\n",
    "while n>10:\n",
    "    n=n/3\n",
    "    a=a+1\n",
    "    \n",
    "print(a)"
   ]
  },
  {
   "cell_type": "markdown",
   "id": "0655d2f1",
   "metadata": {},
   "source": [
    "# Q.5)Why and when to use While loop in Python give a detailed description with example.\n",
    "\n",
    "* It repeats a statement or multiple statements when a provided condition is `True`.\n",
    "   * Before performing a loop body it check for a condition\n",
    "   \n",
    "**Examples**"
   ]
  },
  {
   "cell_type": "code",
   "execution_count": 8,
   "id": "854105c9",
   "metadata": {},
   "outputs": [
    {
     "name": "stdout",
     "output_type": "stream",
     "text": [
      "1\n",
      "2\n",
      "3\n",
      "4\n",
      "5\n",
      "Total Money:  50 Rupees\n"
     ]
    }
   ],
   "source": [
    "''' A child is learning to count number of 10 rupess in his hand \n",
    "and here we have given 5 notes of 10 rupess. \n",
    "Output will display the counting of notes and total amount'''\n",
    "\n",
    "notes = 5\n",
    "i=1 # starting number intialize\n",
    "while i<=notes:\n",
    "    print(i)\n",
    "    i += 1\n",
    "print('Total Money: ',notes*10,'Rupees')"
   ]
  },
  {
   "cell_type": "code",
   "execution_count": 9,
   "id": "0e073bcb",
   "metadata": {},
   "outputs": [
    {
     "name": "stdout",
     "output_type": "stream",
     "text": [
      "Enter number of rows : 5\n",
      "* \n",
      "* * \n",
      "* * * \n",
      "* * * * \n",
      "* * * * * \n"
     ]
    }
   ],
   "source": [
    "#Q.6)Use nested while loop to print 3 different patterns.\n",
    "n = int(input('Enter number of rows : '))\n",
    "\n",
    "i = 1\n",
    "while i <= n :\n",
    "    j = 1\n",
    "    while j <= i:\n",
    "        print(\"*\", end = \" \")\n",
    "        j += 1\n",
    "    print()\n",
    "    i += 1"
   ]
  },
  {
   "cell_type": "code",
   "execution_count": 10,
   "id": "fe11a5ad",
   "metadata": {},
   "outputs": [
    {
     "name": "stdout",
     "output_type": "stream",
     "text": [
      "Enter number of rows : 5\n",
      "* * * * * \n",
      "* * * * \n",
      "* * * \n",
      "* * \n",
      "* \n"
     ]
    }
   ],
   "source": [
    "n = int(input('Enter number of rows : '))\n",
    " \n",
    "i = 1\n",
    "while i <= n :\n",
    "    j = n\n",
    "    while j >= i:\n",
    "        print(\"*\", end = \" \")\n",
    "        j -= 1\n",
    "    print()\n",
    "    i += 1"
   ]
  },
  {
   "cell_type": "code",
   "execution_count": 11,
   "id": "ba6b5f7d",
   "metadata": {},
   "outputs": [
    {
     "name": "stdout",
     "output_type": "stream",
     "text": [
      "Enter number of rows : 5\n",
      "  1 \n",
      "  2   3 \n",
      "  4   5   6 \n",
      "  7   8   9  10 \n",
      " 11  12  13  14  15 \n"
     ]
    }
   ],
   "source": [
    "n = int(input('Enter number of rows : '))\n",
    "\n",
    "k = 1\n",
    "i = 1\n",
    "while i <= n :\n",
    "    j = 1\n",
    "    while j <= i:\n",
    "        print(\"{:3d}\".format(k), end = \" \")\n",
    "        j += 1\n",
    "        k += 1\n",
    "    print()\n",
    "    i += 1"
   ]
  },
  {
   "cell_type": "code",
   "execution_count": 12,
   "id": "82510530",
   "metadata": {},
   "outputs": [
    {
     "name": "stdout",
     "output_type": "stream",
     "text": [
      "10\n",
      "9\n",
      "8\n",
      "7\n",
      "6\n",
      "5\n",
      "4\n",
      "3\n",
      "2\n",
      "1\n"
     ]
    }
   ],
   "source": [
    "#Q.7) Reverse a while loop  to display number from 10 to 1.\n",
    "n=10\n",
    "while n>0:\n",
    "    print(n)\n",
    "    n=n-1"
   ]
  },
  {
   "cell_type": "code",
   "execution_count": 13,
   "id": "f83cb7bc",
   "metadata": {},
   "outputs": [
    {
     "name": "stdout",
     "output_type": "stream",
     "text": [
      "1\n",
      "2\n",
      "3\n",
      "4\n",
      "5\n",
      "6\n",
      "7\n",
      "8\n",
      "9\n",
      "10\n"
     ]
    }
   ],
   "source": [
    "n=1\n",
    "while n<=10:\n",
    "    print(n)\n",
    "    n=n+1"
   ]
  },
  {
   "cell_type": "code",
   "execution_count": null,
   "id": "766f079b",
   "metadata": {},
   "outputs": [],
   "source": []
  }
 ],
 "metadata": {
  "kernelspec": {
   "display_name": "Python 3 (ipykernel)",
   "language": "python",
   "name": "python3"
  },
  "language_info": {
   "codemirror_mode": {
    "name": "ipython",
    "version": 3
   },
   "file_extension": ".py",
   "mimetype": "text/x-python",
   "name": "python",
   "nbconvert_exporter": "python",
   "pygments_lexer": "ipython3",
   "version": "3.9.16"
  }
 },
 "nbformat": 4,
 "nbformat_minor": 5
}
