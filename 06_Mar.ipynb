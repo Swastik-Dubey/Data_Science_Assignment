{
 "cells": [
  {
   "cell_type": "markdown",
   "id": "6b14b252",
   "metadata": {},
   "source": [
    "# Q1. What is Statistics?"
   ]
  },
  {
   "cell_type": "markdown",
   "id": "d3929465",
   "metadata": {},
   "source": [
    "Statistics is a branch of applied mathematics that involves the collection, description, analysis, and inference of conclusions from quantitative data. "
   ]
  },
  {
   "cell_type": "markdown",
   "id": "535c3641",
   "metadata": {},
   "source": [
    "# Q2. Define the different types of statistics and give an example of when each type might be used."
   ]
  },
  {
   "cell_type": "markdown",
   "id": "3ee4af77",
   "metadata": {},
   "source": [
    "Types of Statistics :"
   ]
  },
  {
   "cell_type": "markdown",
   "id": "e60bb94d",
   "metadata": {},
   "source": [
    "1. Descriptive Statistics :\n",
    "Descriptive statistics uses data that provides a description of the population either through numerical calculation or graph or table. It provides a graphical summary of data. It is simply used for summarizing objects, etc. \n",
    "\n"
   ]
  },
  {
   "cell_type": "markdown",
   "id": "031a879a",
   "metadata": {},
   "source": [
    "2. Inferential Statistics :\n",
    "Inferential Statistics makes inference and prediction about population based on a sample of data taken from population. It generalizes a large dataset and applies probabilities to draw a conclusion. It is simply used for explaining meaning of descriptive stats. It is simply used to analyze, interpret result, and draw conclusion. Inferential Statistics is mainly related to and associated with hypothesis testing whose main target is to reject null hypothesis.\n",
    "\n",
    "Hypothesis testing is a type of inferential procedure that takes help of sample data to evaluate and assess credibility of a hypothesis about a population. Inferential statistics are generally used to determine how strong relationship is within sample. But it is very difficult to obtain a population list and draw a random sample."
   ]
  },
  {
   "cell_type": "markdown",
   "id": "e4581d47",
   "metadata": {},
   "source": [
    "# Q3. What are the different types of data and how do they differ from each other? Provide an example of each type of data."
   ]
  },
  {
   "cell_type": "markdown",
   "id": "dbec06ea",
   "metadata": {},
   "source": [
    "Qualitative data is used to represent some characteristics or attributes of the data. The facts and figures depicted by the qualitative data cannot be computed. These properties reflect observable attributes. These are non-numerical in nature. The qualitative data characteristics are exploratory on a larger end than being conclusive in nature. For instance, data on attributes such as honesty, loyalty, wisdom, and creativity for a set of persons defined can be considered as qualitative data. \n",
    "\n",
    "Examples:\n",
    "\n",
    "Attitudes of people to a political system.,\n",
    "Music and art,\n",
    "Intelligence,\n",
    "Beauty of a person,"
   ]
  },
  {
   "cell_type": "markdown",
   "id": "b7e6d525",
   "metadata": {},
   "source": [
    "Nominal data is a sub-category belonging to one of the types of qualitative information. Also known as the nominal scale, it is used to label the variables without providing the numerical value for them. Nominal data attributes can’t either be ordered or measured. The nominal data can be both qualitative and quantitative in nature. For instance, some of the nominal data attributes are letters, symbols or gender, etc.\n",
    "\n",
    "The examination of the nominal data is based on the usage of the grouping method. This method is based on the principle of the grouping of data into different categories. This is followed by the calculation of the frequency or the percentage of the data. The visualization of this data is done using the pie charts.\n",
    "\n",
    "Examples:\n",
    "\n",
    "Gender (Women, Men),,,,\n",
    "Eye color (Blue, Green, Brown),\n",
    "Hair color (Blonde, Brown, Brunette, Red, etc.),\n",
    "Marital status (Married, Single),\n",
    "Religion (Muslim, Hindu, Christian),"
   ]
  },
  {
   "cell_type": "markdown",
   "id": "49f36741",
   "metadata": {},
   "source": [
    "# Q4. Categorise the following datasets with respect to quantitative and qualitative data types:\n",
    "(i) Grading in exam: A+, A, B+, B, C+, C, D, E\n",
    "\n",
    "(ii) Colour of mangoes: yellow, green, orange, red\n",
    "\n",
    "(iii) Height data of a class: [178.9, 179, 179.5, 176, 177.2, 178.3, 175.8,...]\n",
    "\n",
    "(iv) Number of mangoes exported by a farm: [500, 600, 478, 672, ...]"
   ]
  },
  {
   "cell_type": "markdown",
   "id": "58c91fe2",
   "metadata": {},
   "source": [
    "(i) Grading in exam: A+, A, B+, B, C+, C, D, E === qualitative data\n",
    "\n",
    "(ii) Colour of mangoes: yellow, green, orange, red=== qualitative data\n",
    "\n",
    "(iii) Height data of a class: [178.9, 179, 179.5, 176, 177.2, 178.3, 175.8,...] == quantitative data\n",
    "\n",
    "(iv) Number of mangoes exported by a farm: [500, 600, 478, 672, ...]== quantitative data"
   ]
  },
  {
   "cell_type": "markdown",
   "id": "0f9ad2ed",
   "metadata": {},
   "source": [
    "# Q5. Explain the concept of levels of measurement and give an example of a variable for each level."
   ]
  },
  {
   "cell_type": "markdown",
   "id": "97dca70e",
   "metadata": {},
   "source": [
    "Levels of measurement, also called scales of measurement, tell you how precisely variables are recorded. In scientific research, a variable is anything that can take on different values across your data set (e.g., height or test scores).\n",
    "\n",
    "There are 4 levels of measurement:\n",
    "\n",
    "Nominal: the data can only be categorized\n",
    "\n",
    "Ordinal: the data can be categorized and ranked\n",
    "\n",
    "Interval: the data can be categorized, ranked, and evenly spaced\n",
    "\n",
    "Ratio: the data can be categorized, ranked, evenly spaced, and has a natural zero."
   ]
  },
  {
   "cell_type": "markdown",
   "id": "c38affdd",
   "metadata": {},
   "source": [
    "# Q6. Why is it important to understand the level of measurement when analyzing data? Provide an example to illustrate your answer."
   ]
  },
  {
   "cell_type": "markdown",
   "id": "bdaa8f7b",
   "metadata": {},
   "source": [
    "It is important to understand the level of measurement of variables in research, because the level of measurement determines the type of statistical analysis that can be conducted, and, therefore, the type of conclusions that can be drawn from the research."
   ]
  },
  {
   "cell_type": "markdown",
   "id": "626a5e57",
   "metadata": {},
   "source": [
    "# Q7. How nominal data type is different from ordinal data type."
   ]
  },
  {
   "cell_type": "markdown",
   "id": "d402beb2",
   "metadata": {},
   "source": [
    "Nominal data is a group of non-parametric variables, whereas Ordinal data is a group of non-parametric ordered variables. Ordinal data is analyzed by mode, median, quartiles, and percentile, whereas nominal data is analyzed by grouping variables into categories and calculating the distribution mode.\n"
   ]
  },
  {
   "cell_type": "markdown",
   "id": "fcd9c4b9",
   "metadata": {},
   "source": [
    "# Q8. Which type of plot can be used to display data in terms of range?"
   ]
  },
  {
   "cell_type": "markdown",
   "id": "cd1dcd81",
   "metadata": {},
   "source": [
    "Histogram. If the groups depicted in a bar chart are actually continuous numeric ranges, we can push the bars together to generate a histogram. Bar lengths in histograms typically correspond to counts of data points, and their patterns demonstrate the distribution of variables in your data."
   ]
  },
  {
   "cell_type": "markdown",
   "id": "c21d1f9b",
   "metadata": {},
   "source": [
    "# Q9. Describe the difference between descriptive and inferential statistics. Give an example of each type of statistics and explain how they are used."
   ]
  },
  {
   "cell_type": "markdown",
   "id": "f04bca9d",
   "metadata": {},
   "source": [
    "Inferential statistics helps to compare data, make hypotheses and predictions. Descriptive statistics explains already known data related to a particular sample or population of a small size. Inferential statistics, however, aims to draw inferences or conclusions about a whole population."
   ]
  },
  {
   "cell_type": "markdown",
   "id": "1331fedb",
   "metadata": {},
   "source": [
    "# Q10. What are some common measures of central tendency and variability used in statistics? Explain how each measure can be used to describe a dataset."
   ]
  },
  {
   "cell_type": "markdown",
   "id": "7513074d",
   "metadata": {},
   "source": [
    "Central tendency and variation are two measures used in statistics to summarize data. Measure of central\n",
    "tendency shows where the center or middle of the data set is located, whereas measure of variation shows\n",
    "the dispersion among data values."
   ]
  },
  {
   "cell_type": "markdown",
   "id": "6e38ed6d",
   "metadata": {},
   "source": [
    "Measures of central tendency\n",
    "\n",
    "Mean: average of data values,\n",
    "\n",
    "Median: “middle value” or the average of “middle\n",
    "two values” in a data set when the numbers are\n",
    "arranged in an order. \n",
    "\n",
    "Mode: value that occurs with greatest frequency.\n"
   ]
  },
  {
   "cell_type": "markdown",
   "id": "3f94c790",
   "metadata": {},
   "source": [
    "Measures of variation\n",
    "\n",
    "Standard deviation: measure of how much data\n",
    "values are deviated away from mean. "
   ]
  },
  {
   "cell_type": "markdown",
   "id": "b5190bb7",
   "metadata": {},
   "source": [
    "Variance: square of the standard deviation.\n"
   ]
  },
  {
   "cell_type": "markdown",
   "id": "46d50cd0",
   "metadata": {},
   "source": [
    "Range: difference between the maximum value and\n",
    "the minimum value in a data set,\n",
    "Range = maximum value – minimum value"
   ]
  },
  {
   "cell_type": "code",
   "execution_count": null,
   "id": "827e8fb0",
   "metadata": {},
   "outputs": [],
   "source": []
  }
 ],
 "metadata": {
  "kernelspec": {
   "display_name": "Python 3 (ipykernel)",
   "language": "python",
   "name": "python3"
  },
  "language_info": {
   "codemirror_mode": {
    "name": "ipython",
    "version": 3
   },
   "file_extension": ".py",
   "mimetype": "text/x-python",
   "name": "python",
   "nbconvert_exporter": "python",
   "pygments_lexer": "ipython3",
   "version": "3.10.9"
  }
 },
 "nbformat": 4,
 "nbformat_minor": 5
}
