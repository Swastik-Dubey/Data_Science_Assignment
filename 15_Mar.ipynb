{
 "cells": [
  {
   "cell_type": "markdown",
   "id": "9afe9163",
   "metadata": {},
   "source": [
    "# Q1)- Explain the following with an example:\n"
   ]
  },
  {
   "cell_type": "markdown",
   "id": "04ce04de",
   "metadata": {},
   "source": [
    "## a) Artificial Intelligence\n",
    "\n",
    "\n",
    "Artificial intelligence is the simulation of human intelligence processes by machines, especially computer systems. Specific applications of AI include expert systems, natural language processing, speech recognition and machine vision."
   ]
  },
  {
   "cell_type": "markdown",
   "id": "458715e3",
   "metadata": {},
   "source": [
    "## b)Machine learning\n",
    "\n",
    "Machine Learning is the field of study that gives computers the capability to learn without being explicitly programmed.\n",
    "Machine learning is a subfield of artificial intelligence, which is broadly defined as the capability of a machine to imitate intelligent human behavior. Artificial intelligence systems are used to perform complex tasks in a way that is similar to how humans solve problems."
   ]
  },
  {
   "cell_type": "markdown",
   "id": "45b9a4e3",
   "metadata": {},
   "source": [
    "## c) Deep Learning\n",
    "\n",
    "Deep learning is a method in artificial intelligence (AI) that teaches computers to process data in a way that is inspired by the human brain. Deep learning models can recognize complex patterns in pictures, text, sounds, and other data to produce accurate insights and predictions."
   ]
  },
  {
   "cell_type": "markdown",
   "id": "3cdacb72",
   "metadata": {},
   "source": [
    "### Q2- What is supervised learning? List some example of supervised learning."
   ]
  },
  {
   "cell_type": "markdown",
   "id": "791291b7",
   "metadata": {},
   "source": [
    "Supervised learning, also known as supervised machine learning, is a subcategory of machine learning and artificial intelligence. It is defined by its use of labeled datasets to train algorithms that to classify data or predict outcomes accurately.\n"
   ]
  },
  {
   "cell_type": "markdown",
   "id": "5192d89c",
   "metadata": {},
   "source": [
    "### Q3- What is unsupervised learning? List some example of unsupervised learning."
   ]
  },
  {
   "cell_type": "markdown",
   "id": "1baa414b",
   "metadata": {},
   "source": [
    "Unsupervised learning, also known as unsupervised machine learning, uses machine learning algorithms to analyze and cluster unlabeled datasets. These algorithms discover hidden patterns or data groupings without the need for human intervention."
   ]
  },
  {
   "cell_type": "markdown",
   "id": "b0d09b97",
   "metadata": {},
   "source": [
    "### Q4- What is the difference between AI, ML, DL, and DS?"
   ]
  },
  {
   "cell_type": "markdown",
   "id": "d57d75a0",
   "metadata": {},
   "source": [
    "🔹Artificial Intelligence (AI) enables machines to think by understanding, learning from the data, and taking decisions based on patterns hidden in the data or make inferences that would otherwise be very difficult for humans to make manually. The end goal of using ML or DL is to create an AI application or machine as smart as humans.\n",
    "\n",
    "🔹Machine Learning (ML) is a subset of AI; it provides us statistical tools/techniques like Supervised, Unsupervised, and Reinforcement learning to explore and analyze the data.\n",
    "\n",
    "🔹Deep Learning (DL) is further a subset of ML, and the main idea behind it is to make machines learn by mimicking the human brain. Here, we create a multi neural network architecture with the help of different techniques like ANN, CNN, and RNN.\n",
    "\n",
    "🔹Data Science (DS) is basically drawing insights from structured and unstructured data either by using ML or DL or without these techniques. We can even use different visualization tools, statistics, and probability to gain these insights."
   ]
  },
  {
   "cell_type": "markdown",
   "id": "f16b3ed8",
   "metadata": {},
   "source": [
    "### Q5- What are the main differences between supervised, unsupervised, and semi-supervised learning?"
   ]
  },
  {
   "cell_type": "markdown",
   "id": "89a07d41",
   "metadata": {},
   "source": [
    "1. Supervised Machine Learning:\n",
    "Supervised learning is the process where you have input variables (X) and an output variable (Y) and you use an algorithm to learn the mapping function from the input to the output.\n",
    "\n",
    "2. Unsupervised Machine Learning:\n",
    "Unsupervised learning is a machine learning technique, where you do not need to supervise the model. Instead, you need to allow the model to work on its own to discover information. It mainly deals with the unlabeled data. Algorithms are left to their own devises to discover and present the interesting structure in the data.\n",
    "\n",
    "3. Semi-supervised Machine Learning:\n",
    "The biggest difference between supervised and unsupervised machine learning is: Supervised machine learning algorithms are trained on datasets that include labels added by a machine learning engineer or data scientist that guide the algorithm to understand which features are important to the problem at hand."
   ]
  },
  {
   "cell_type": "markdown",
   "id": "10a1f601",
   "metadata": {},
   "source": [
    "### Q6- What is train, test and validation split? Explain the importane of each term."
   ]
  },
  {
   "cell_type": "markdown",
   "id": "09af01e2",
   "metadata": {},
   "source": [
    "Train Dataset:\n",
    "Set of data used for learning (by the model), that is, to fit the parameters to the machine learning model\n",
    "\n",
    "Valid Dataset:\n",
    "Set of data used to provide an unbiased evaluation of a model fitted on the training dataset while tuning model hyperparameters.\n",
    "Also play a role in other forms of model preparation, such as feature selection, threshold cut-off selection.\n",
    "\n",
    "Test Dataset:\n",
    "Set of data used to provide an unbiased evaluation of a final model fitted on the training dataset."
   ]
  },
  {
   "cell_type": "markdown",
   "id": "18071b7c",
   "metadata": {},
   "source": [
    "### Q7- How can unsupervised learning be used in anomaly detection?"
   ]
  },
  {
   "cell_type": "markdown",
   "id": "2daaabca",
   "metadata": {},
   "source": [
    "\n",
    "Unsupervised is useful when the data is unlabeled and thus requires less work to process the data set before- hand. Anomaly detection techniques of unsupervised nature assume that normal data points occur considerably more frequently than anomalous data points."
   ]
  },
  {
   "cell_type": "markdown",
   "id": "17059704",
   "metadata": {},
   "source": [
    "### Q8- List down some commonly used supervised learning algorithms and unsupervised learning algrithms."
   ]
  },
  {
   "cell_type": "markdown",
   "id": "bc59fa48",
   "metadata": {},
   "source": [
    "The most commonly used Supervised Learning algorithms are decision tree, logistic regression, linear regression, support vector machine. The most commonly used Unsupervised Learning algorithms are k-means clustering, hierarchical clustering, and apriori algorithm."
   ]
  },
  {
   "cell_type": "code",
   "execution_count": null,
   "id": "d41aab66",
   "metadata": {},
   "outputs": [],
   "source": []
  }
 ],
 "metadata": {
  "kernelspec": {
   "display_name": "Python 3 (ipykernel)",
   "language": "python",
   "name": "python3"
  },
  "language_info": {
   "codemirror_mode": {
    "name": "ipython",
    "version": 3
   },
   "file_extension": ".py",
   "mimetype": "text/x-python",
   "name": "python",
   "nbconvert_exporter": "python",
   "pygments_lexer": "ipython3",
   "version": "3.10.9"
  }
 },
 "nbformat": 4,
 "nbformat_minor": 5
}
