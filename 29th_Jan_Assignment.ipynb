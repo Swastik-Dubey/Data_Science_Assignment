{
 "cells": [
  {
   "cell_type": "markdown",
   "id": "83d765e7",
   "metadata": {},
   "source": [
    "# Q.1) Who Developed Python programming language?\n",
    "\n",
    "## Ans. It was created by Guido van Rossum and first released in the year 1991."
   ]
  },
  {
   "cell_type": "markdown",
   "id": "81ef62ae",
   "metadata": {},
   "source": [
    "# Q.2) Which type of programming does python support?\n",
    "### Ans. Python supports multiple programming paradigms, including: \n",
    "1)Imperative Programming: This involves giving the computer a sequence of tasks to perform, using statements that change a program's state.\n",
    "2_Object-Oriented Programming (OOP): This is a programming paradigm based on the concept of \"objects\", which can contain data and code that manipulates that data.\n",
    "3)Functional Programming: This is a programming paradigm that treats computation as the evaluation of mathematical functions and avoids changing-state and mutable data.\n",
    "4)Procedural Programming: This is a programming paradigm based on the concept of procedures, which are functions that operate on data.\n",
    "Python's design philosophy prioritizes readability and ease of use, and it provides constructs that support these paradigms and others, making it a versatile and flexible language for a wide range of applications."
   ]
  },
  {
   "cell_type": "markdown",
   "id": "0c99576a",
   "metadata": {},
   "source": [
    "# Q.3) is python case sensitive when dealing with identifiers?\n",
    "Ans. Yes, Python is case sensitive when dealing with identifiers. This means that the names \"name\", \"Nam\", and “NAME\" are treated as three different identifiers by the Python interpreter."
   ]
  },
  {
   "cell_type": "markdown",
   "id": "e88d8ee6",
   "metadata": {},
   "source": [
    "# Q.4) what is correct extension of the python file?\n",
    "Ans.The .py, .pyc, .pyo and .pyd files have their own significance when it comes to executing python programs. The are used for −\n",
    "\n",
    ".py: The input source code that you've written.\n",
    "\n",
    ".pyc: The compiled bytecode. If you import a module, python will build a *.pyc file that contains the bytecode to make importing it again later easier (and faster).\n",
    "\n",
    ".pyo: A *.pyc file that was created while optimizations (-O) was on.\n",
    "\n",
    ".pyd: A windows dll file for Python.\n",
    "\n",
    "In Python, there are several file extensions that are used to indicate different types of files."
   ]
  },
  {
   "cell_type": "markdown",
   "id": "195b88de",
   "metadata": {},
   "source": [
    "# Q.5) is python code compiled or interpreted?\n",
    "Ans. Python is an interpreted language, which means the source code of a Python program is converted into bytecode that is then executed by the Python virtual machine. "
   ]
  },
  {
   "cell_type": "markdown",
   "id": "2b65c56d",
   "metadata": {},
   "source": [
    "# Q.6) Name a few block of code used to define in python  language?\n",
    "Ans. Indentation is used to define a block of code in python\n",
    "Examples of Python Programs Showing use of Indentation\n",
    "Name checking if-else program is given to better understand an indentation in python. Looking at the code below will help you understand the concept of an indentation in python in a much better way.\n",
    "\n",
    "\n"
   ]
  },
  {
   "cell_type": "code",
   "execution_count": 2,
   "id": "3f9f3e24",
   "metadata": {},
   "outputs": [
    {
     "name": "stdout",
     "output_type": "stream",
     "text": [
      "Correct Name!!\n",
      "HI\n"
     ]
    }
   ],
   "source": [
    "#Example 1: Program for Checking names using Python\n",
    "name = 'Alex'\n",
    "    \n",
    "if name == 'Alex':\n",
    "    print('Correct Name!!')\n",
    "else:\n",
    "\tprint('InCorrect Name:(')\n",
    "print('HI')"
   ]
  },
  {
   "cell_type": "markdown",
   "id": "3ac842a4",
   "metadata": {},
   "source": [
    "# Q.7)  state the character used to give single-line comments in python?\n",
    "Ans. In Python, we use the hash symbol # to write a single-line comment."
   ]
  },
  {
   "cell_type": "markdown",
   "id": "87998ffb",
   "metadata": {},
   "source": [
    "# Q.8) Mention a function which can  help us to find the version of python  that we are currently working on?\n",
    "Ans. The function sys. version can help us to find the version of python that we are currently working on. It also contains information on the build number and compiler used. For example, 3.5."
   ]
  },
  {
   "cell_type": "markdown",
   "id": "d0f0c4c0",
   "metadata": {},
   "source": [
    "# Q.9) python supports the creation of anonymous function at runtime, using a construct called___\n",
    "Ans. Python supports the creation of anonymous functions (i.e. functions that are not bound to a name) at runtime, using a construct called lambda."
   ]
  },
  {
   "cell_type": "markdown",
   "id": "b66441f8",
   "metadata": {},
   "source": [
    "# Q.10) What does pip stands in python?\n",
    "Ans.pip (an acronym of “pip Install Packages”) is today the standard tool for installing Python packages and their dependencies in a secure manner. Most recent distributions of Python come with pip preinstalled."
   ]
  },
  {
   "cell_type": "markdown",
   "id": "8567285a",
   "metadata": {},
   "source": [
    "# Q.11) Mention few built-in functions in python?\n",
    "Ans. Function:abs()-->\tDescription:Returns the absolute value of a number  ,\n",
    "    function:all()-->   Description:Returns True if all items in an iterable object are true   ,\n",
    "    function:any()-->\tDescription:Returns True if any item in an iterable object is true    ,\n",
    "    function:bin()-->\tDescription:Returns the binary version of a number   ,\n",
    "    function:bool()-->\tDescription:Description:Returns the boolean value of the specified object  ,\n",
    "    function:dict()-->\tDescription:Description:Description:Returns a dictionary (Array) ,\n",
    "    function:float()-->\tDescription:Returns a floating point number "
   ]
  },
  {
   "cell_type": "markdown",
   "id": "c2080885",
   "metadata": {},
   "source": [
    "# Q.12) What is maximum possible length of identifier in python?\n",
    "Answer: An identifier can have a maximum length of 79 characters in Python. "
   ]
  },
  {
   "cell_type": "markdown",
   "id": "5c4cdf74",
   "metadata": {},
   "source": [
    "# Q.13)  What are the benefits of using python?\n",
    "Ans.Presence of third-party modules ,\n",
    "Extensive support libraries(NumPy for numerical calculations, Pandas for data analytics, etc.) ,\n",
    "Open source and large active community base ,\n",
    "Versatile, Easy to read, learn and write,\n",
    "User-friendly data structures ,\n",
    "High-level language ,\n",
    "Dynamically typed language(No need to mention data type based on the value assigned, it takes data type) ,\n",
    "Object-Oriented and Procedural  Programming language,\n",
    "Portable and Interactive,\n",
    "Ideal for prototypes – provide more functionality with less coding,\n",
    "Interpreted Language ,\n",
    "Portable across Operating systems \n"
   ]
  },
  {
   "cell_type": "markdown",
   "id": "6987f03c",
   "metadata": {},
   "source": [
    "# Q.14) How is memory managed in python?\n",
    "Ans. Memory management in Python involves a private heap containing all Python objects and data structures. The management of this private heap is ensured internally by the Python memory manager."
   ]
  },
  {
   "cell_type": "markdown",
   "id": "c4b977b9",
   "metadata": {},
   "source": [
    "# Q.15) How to install python on windows and set path variables?\n",
    "Ans. To download Python, you need to visit www.python.org, which is the official Python website.Click on the Downloads tab and then select the Windows option. This will take you to the page where the different Python releases for Windows can be found. Since I am using a 64bit system, I’ll select “Windows x86-64 executable installer”.Once the executable file download is complete, you can open it to install Python.Click on Run, which will start the installation process.If you want to save the installation file in a different location, click on Customize installation; otherwise, continue with Install Now. Also, select the checkbox at the bottom to Add Python 3.7 to PATH.Once the installation is complete, the below pop-up box will appear: Setup was successful."
   ]
  },
  {
   "cell_type": "markdown",
   "id": "b8cbd3aa",
   "metadata": {},
   "source": [
    "# Q.16) Is Indentation required in python?\n",
    "Ans. Indentation is important to Python, because it's how you determine scope. Scope is how Python knows what code belongs to what part of the program."
   ]
  },
  {
   "cell_type": "code",
   "execution_count": null,
   "id": "d36c5c20",
   "metadata": {},
   "outputs": [],
   "source": []
  }
 ],
 "metadata": {
  "kernelspec": {
   "display_name": "Python 3 (ipykernel)",
   "language": "python",
   "name": "python3"
  },
  "language_info": {
   "codemirror_mode": {
    "name": "ipython",
    "version": 3
   },
   "file_extension": ".py",
   "mimetype": "text/x-python",
   "name": "python",
   "nbconvert_exporter": "python",
   "pygments_lexer": "ipython3",
   "version": "3.9.16"
  }
 },
 "nbformat": 4,
 "nbformat_minor": 5
}
