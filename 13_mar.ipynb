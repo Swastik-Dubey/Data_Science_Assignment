{
 "cells": [
  {
   "cell_type": "markdown",
   "id": "f3d5863b-7a89-4d51-9b2b-e422ddb69e77",
   "metadata": {},
   "source": [
    "Q1. Explain the assumptions required to use ANOVA and provide examples of violations that could impact the validity of the results.\r\n",
    "\r\n",
    "Assumptions of ANOVA:\r\n",
    "\r\n",
    "Normality: The dependent variable should be approximately normally distributed within each group.\r\n",
    "Homogeneity of Variance (Homoscedasticity): The variances of the groups should be approximately equal.\r\n",
    "Independence: Observations within each group should be independent of each other.\r\n",
    "Random Sampling: The data should be obtained through a random sampling process.\r\n",
    "Violations and Impacts:\r\n",
    "\r\n",
    "Normality Violation: If the assumption of normality is violated, it can lead to inaccurate p-values. Transformations or non-parametric alternatives might be considered.\r\n",
    "Homogeneity of Variance Violation: Unequal variances can lead to biased standard errors and affect the validity of the F-test. Robust ANOVA techniques or transformations may be used.\r\n",
    "Independence Violation: If observations are not independent, it can lead to pseudoreplication, and the F-test may be overly optimistic. This may be addressed through proper study design or statistical methods for repeated measures."
   ]
  },
  {
   "cell_type": "markdown",
   "id": "a45a4437-db15-4e6d-8c31-4bb95aaad902",
   "metadata": {},
   "source": [
    "Q2. What are the three types of ANOVA, and in what situations would each be used?\r\n",
    "\r\n",
    "Types of ANOVA:\r\n",
    "\r\n",
    "One-Way ANOVA: Used when comparing means across two or more independent groups.\r\n",
    "Two-Way ANOVA: Used when there are two independent variables (factors) affecting the dependent variable.\r\n",
    "Repeated Measures ANOVA: Used when measurements are taken on the same set of subjects under different conditions (within-subjects design)."
   ]
  },
  {
   "cell_type": "markdown",
   "id": "5de32012-1929-4d8a-b272-76d464188ba9",
   "metadata": {},
   "source": [
    "Q3. What is the partitioning of variance in ANOVA, and why is it important to understand this concept?\n",
    "\n",
    "Partitioning of Variance:\n",
    "\n",
    "ANOVA decomposes the total variance in the data into different components: total sum of squares (SST), explained sum of squares (SSE), and residual sum of squares (SSR).\n",
    "SST = SSE + SSR\n",
    "Importance:\n",
    "\n",
    "Understanding how variance is partitioned helps identify the sources of variation in the data.\n",
    "It allows us to assess the proportion of total variance explained by the model (SSE) and the proportion that remains unexplained (SSR)."
   ]
  },
  {
   "cell_type": "markdown",
   "id": "12f868ac-9d55-4f28-b265-7e3b21b91f1a",
   "metadata": {},
   "source": [
    "Q4. How would you calculate the total sum of squares (SST), explained sum of squares (SSE), and residual sum of squares (SSR) in a one-way ANOVA using Python?\r\n",
    "\r\n"
   ]
  },
  {
   "cell_type": "code",
   "execution_count": 1,
   "id": "a866f6ff-21bc-4daf-8798-4393dc9610c0",
   "metadata": {},
   "outputs": [
    {
     "name": "stdout",
     "output_type": "stream",
     "text": [
      "SST: 245.60000000000002\n",
      "SSE: 245.59999999999997\n",
      "SSR: 5.684341886080802e-14\n"
     ]
    }
   ],
   "source": [
    "import scipy.stats as stats\n",
    "import numpy as np\n",
    "\n",
    "# Example data for three groups\n",
    "group1 = [10, 12, 15, 8, 11]\n",
    "group2 = [14, 18, 20, 16, 22]\n",
    "group3 = [8, 10, 12, 11, 14]\n",
    "\n",
    "# Combine data from all groups\n",
    "all_data = np.concatenate([group1, group2, group3])\n",
    "\n",
    "# Calculate SST\n",
    "sst = np.sum((all_data - np.mean(all_data))**2)\n",
    "\n",
    "# Calculate SSE\n",
    "sse = np.sum((group1 - np.mean(all_data))**2) + np.sum((group2 - np.mean(all_data))**2) + np.sum((group3 - np.mean(all_data))**2)\n",
    "\n",
    "# Calculate SSR\n",
    "ssr = sst - sse\n",
    "\n",
    "print(f\"SST: {sst}\")\n",
    "print(f\"SSE: {sse}\")\n",
    "print(f\"SSR: {ssr}\")\n"
   ]
  },
  {
   "cell_type": "markdown",
   "id": "20d52fb1-72c8-40c0-83fb-bc1ed5c75fc5",
   "metadata": {},
   "source": [
    "Q5. In a two-way ANOVA, how would you calculate the main effects and interaction effects using Python?\r\n",
    "\r\n"
   ]
  },
  {
   "cell_type": "code",
   "execution_count": 2,
   "id": "bf17aeb2-401d-4fca-9999-ebfffa7690dc",
   "metadata": {},
   "outputs": [
    {
     "name": "stdout",
     "output_type": "stream",
     "text": [
      "Main Effect A: 79.40000000000005\n",
      "Main Effect B: 8.100000000000003\n",
      "Interaction Effect: 0.43333333333334045\n"
     ]
    }
   ],
   "source": [
    "import statsmodels.api as sm\n",
    "from statsmodels.formula.api import ols\n",
    "import pandas as pd\n",
    "\n",
    "# Example data for two-way ANOVA\n",
    "data = {'A': ['A1']*5 + ['A2']*5 + ['A3']*5,\n",
    "        'B': ['B1', 'B2', 'B1', 'B2', 'B1']*3,\n",
    "        'Value': [10, 12, 15, 8, 11, 14, 18, 20, 16, 22, 8, 10, 12, 11, 14]}\n",
    "\n",
    "df = pd.DataFrame(data)\n",
    "\n",
    "# Fit the two-way ANOVA model\n",
    "model = ols('Value ~ A * B', data=df).fit()\n",
    "anova_table = sm.stats.anova_lm(model, typ=2)\n",
    "\n",
    "# Extract main effects and interaction effects\n",
    "main_effect_A = anova_table.loc['A', 'sum_sq'] / anova_table.loc['A', 'df']\n",
    "main_effect_B = anova_table.loc['B', 'sum_sq'] / anova_table.loc['B', 'df']\n",
    "interaction_effect = anova_table.loc['A:B', 'sum_sq'] / anova_table.loc['A:B', 'df']\n",
    "\n",
    "print(f\"Main Effect A: {main_effect_A}\")\n",
    "print(f\"Main Effect B: {main_effect_B}\")\n",
    "print(f\"Interaction Effect: {interaction_effect}\")\n"
   ]
  },
  {
   "cell_type": "markdown",
   "id": "4ed7d973-2ee2-4219-baef-14467f7f3598",
   "metadata": {},
   "source": [
    "Q6. Suppose you conducted a one-way ANOVA and obtained an F-statistic of 5.23 and a p-value of 0.02. What can you conclude about the differences between the groups, and how would you interpret these results?\r\n",
    "\r\n",
    "The obtained p-value (0.02) is less than the significance level (e.g., 0.05). Therefore, you would reject the null hypothesis. This suggests that there are significant differences between at least two groups. The F-statistic (5.23) indicates the ratio of the variance between groups to the variance within groups. The larger the F-statistic, the more evidence you have against the null hypothesis."
   ]
  },
  {
   "cell_type": "markdown",
   "id": "abae2da8-afc6-4d7f-8d2f-512afcae8635",
   "metadata": {},
   "source": [
    "Q7. In a repeated measures ANOVA, how would you handle missing data, and what are the potential consequences of using different methods to handle missing data?\r\n",
    "\r\n",
    "Handling missing data in repeated measures ANOVA can be done using various methods:\r\n",
    "\r\n",
    "Pairwise deletion: Ignores cases with missing data for specific comparisons.\r\n",
    "Listwise deletion: Removes cases with any missing data.\r\n",
    "Imputation: Replaces missing values with estimated values.\r\n",
    "Potential consequences:\r\n",
    "\r\n",
    "Pairwise and listwise deletion may lead to biased results and reduced statistical power.\r\n",
    "Imputation methods introduce additional uncertainty and may impact the accuracy of the results."
   ]
  },
  {
   "cell_type": "markdown",
   "id": "80cee7bd-ba60-43f8-a59d-5b39229ed99d",
   "metadata": {},
   "source": [
    "Q8. What are some common post-hoc tests used after ANOVA, and when would you use each one? Provide an example of a situation where a post-hoc test might be necessary.\r\n",
    "\r\n",
    "Common post-hoc tests include Tukey's HSD, Bonferroni correction, and Scheffé's method. Post-hoc tests are used when ANOVA indicates significant differences between groups, but they don't identify which specific groups differ.\r\n",
    "\r\n",
    "Example: In a one-way ANOVA comparing the effectiveness of three teaching methods, if ANOVA shows a significant difference, a post-hoc test would be necessary to determine which pairs of teaching methods are significantly different from each other."
   ]
  },
  {
   "cell_type": "markdown",
   "id": "3312b1f2-aeca-48ca-9405-df1ce9b18a86",
   "metadata": {},
   "source": [
    "Q9. A researcher wants to compare the mean weight loss of three diets: A, B, and C. They collect data from 50 participants who were randomly assigned to one of the diets. Conduct a one-way ANOVA using Python to determine if there are any significant differences between the mean weight loss of the three diets. Report the F-statistic and p-value, and interpret the results.\r\n",
    "\r\n"
   ]
  },
  {
   "cell_type": "code",
   "execution_count": 3,
   "id": "c497f32e-adda-4424-acb5-e1a0113840b6",
   "metadata": {},
   "outputs": [
    {
     "name": "stdout",
     "output_type": "stream",
     "text": [
      "F-statistic: 15.09054325955734\n",
      "P-value: 3.3622599171676966e-06\n",
      "Reject the null hypothesis. There are significant differences between the mean weight loss of the three diets.\n"
     ]
    }
   ],
   "source": [
    "import scipy.stats as stats\r\n",
    "\r\n",
    "# Example data for three diets\r\n",
    "diet_A = [2, 3, 4, 5, 3, 2, 4, 6, 5, 3, 2, 4, 5, 3, 2, 4, 6, 5, 3, 2, 4, 5, 3, 2, 4]\r\n",
    "diet_B = [3, 4, 5, 6, 4, 3, 5, 7, 6, 4, 3, 5, 6, 4, 3, 5, 7, 6, 4, 3, 5, 6, 4, 3, 5]\r\n",
    "diet_C = [4, 5, 6, 7, 5, 4, 6, 8, 7, 5, 4, 6, 7, 5, 4, 6, 8, 7, 5, 4, 6, 7, 5, 4, 6]\r\n",
    "\r\n",
    "# Perform one-way ANOVA\r\n",
    "f_statistic, p_value = stats.f_oneway(diet_A, diet_B, diet_C)\r\n",
    "\r\n",
    "print(f\"F-statistic: {f_statistic}\")\r\n",
    "print(f\"P-value: {p_value}\")\r\n",
    "\r\n",
    "# Interpretation\r\n",
    "if p_value < 0.05:\r\n",
    "    print(\"Reject the null hypothesis. There are significant differences between the mean weight loss of the three diets.\")\r\n",
    "else:\r\n",
    "    print(\"Fail to reject the null hypothesis. There is no significant difference between the mean weight loss of the three diets.\")\r\n"
   ]
  },
  {
   "cell_type": "markdown",
   "id": "45c8d0f8-8ac0-458c-85b0-8b62d83c1ff6",
   "metadata": {},
   "source": [
    "Q10. A company wants to know if there are any significant differences in the average time it takes to complete a task using three different software programs: Program A, Program B, and Program C. They randomly assign 30 employees to one of the programs and record the time it takes each employee to complete the task. Conduct a two-way ANOVA using Python to determine if there are any main effects or interaction effects between the software programs and employee experience level (novice vs. experienced). Report the F-statistics and p-values, and interpret the results.\r\n",
    "\r\n",
    "\n",
    "are significant effects."
   ]
  },
  {
   "cell_type": "code",
   "execution_count": 4,
   "id": "a5b9357f-c492-406b-9b3f-a2e0270b6ad6",
   "metadata": {},
   "outputs": [
    {
     "name": "stdout",
     "output_type": "stream",
     "text": [
      "                           sum_sq    df           F        PR(>F)\n",
      "C(Software)                  50.4   2.0    9.333333  1.003391e-03\n",
      "C(Experience)               691.2   1.0  256.000000  2.641534e-14\n",
      "C(Software):C(Experience)   154.4   2.0   28.592593  4.454649e-07\n",
      "Residual                     64.8  24.0         NaN           NaN\n"
     ]
    }
   ],
   "source": [
    "import pandas as pd\n",
    "import statsmodels.api as sm\n",
    "from statsmodels.formula.api import ols\n",
    "\n",
    "# Create a DataFrame with the data\n",
    "data = pd.DataFrame({\n",
    "    'Software': ['A']*10 + ['B']*10 + ['C']*10,\n",
    "    'Experience': ['Novice']*5 + ['Experienced']*5 + ['Novice']*5 + ['Experienced']*5 + ['Novice']*5 + ['Experienced']*5,\n",
    "    'Time': [15, 16, 14, 18, 17, 20, 25, 22, 24, 23, 12, 13, 14, 15, 16, 18, 22, 21, 20, 19, 10, 11, 12, 13, 14, 28, 26, 27, 30, 29]\n",
    "})\n",
    "\n",
    "# Fit a two-way ANOVA model\n",
    "model = ols('Time ~ C(Software) * C(Experience)', data=data).fit()\n",
    "anova_table = sm.stats.anova_lm(model, typ=2)\n",
    "\n",
    "# Print the ANOVA table\n",
    "print(anova_table)\n"
   ]
  },
  {
   "cell_type": "markdown",
   "id": "d34f3918-fba0-4b6f-a6c9-92ef4c81df04",
   "metadata": {},
   "source": [
    "Interpretation:\r\n",
    "\r\n",
    "Check the p-values in the ANOVA table for the main effects of Software, Experience, and the interaction effect.\r\n",
    "If any p-value is less than the chosen significance level (e.g., 0.05), you can conclude that there are significant effects."
   ]
  },
  {
   "cell_type": "markdown",
   "id": "2ec632f3-55ed-4f4e-bc2d-5039a531a37c",
   "metadata": {},
   "source": [
    "Q11. An educational researcher is interested in whether a new teaching method improves student test scores. They randomly assign 100 students to either the control group (traditional teaching method) or the experimental group (new teaching method) and administer a test at the end of the semester. Conduct a two-sample t-test using Python to determine if there are any significant differences in test scores between the two groups. If the results are significant, follow up with a post-hoc test to determine which group(s) differ significantly from each other.\r\n",
    "\r\n"
   ]
  },
  {
   "cell_type": "code",
   "execution_count": 5,
   "id": "3a59e202-df02-4352-a6a6-8aa34e685750",
   "metadata": {},
   "outputs": [
    {
     "name": "stdout",
     "output_type": "stream",
     "text": [
      "T-statistic: -10.472806010719456\n",
      "P-value: 3.437682700718616e-11\n",
      "Reject the null hypothesis. There is a significant difference in test scores between the control and experimental groups.\n"
     ]
    }
   ],
   "source": [
    "import scipy.stats as stats\n",
    "\n",
    "# Example data for control group\n",
    "control_group = [75, 78, 80, 82, 79, 77, 76, 81, 83, 79, 74, 78, 80, 82, 79]\n",
    "\n",
    "# Example data for experimental group\n",
    "experimental_group = [85, 88, 90, 92, 89, 87, 86, 91, 93, 89, 84, 88, 90, 92, 89]\n",
    "\n",
    "# Perform two-sample t-test\n",
    "t_statistic, p_value = stats.ttest_ind(control_group, experimental_group)\n",
    "\n",
    "print(f\"T-statistic: {t_statistic}\")\n",
    "print(f\"P-value: {p_value}\")\n",
    "\n",
    "# Interpretation\n",
    "if p_value < 0.05:\n",
    "    print(\"Reject the null hypothesis. There is a significant difference in test scores between the control and experimental groups.\")\n",
    "else:\n",
    "    print(\"Fail to reject the null hypothesis. There is no significant difference in test scores between the control and experimental groups.\")\n"
   ]
  },
  {
   "cell_type": "markdown",
   "id": "beba0dd9-5407-423f-922b-a4c9bfe8927c",
   "metadata": {},
   "source": [
    "Q12. A researcher wants to know if there are any significant differences in the average daily sales of three retail stores: Store A, Store B, and Store C. They randomly select 30 days and record the sales for each store on those days. Conduct a repeated measures ANOVA using Python to determine if there are any significant differences in sales between the three stores. If the results are significant, follow up with a post-hoc test to determine which store(s) differ significantly from each other.\r\n",
    "\r\n"
   ]
  },
  {
   "cell_type": "code",
   "execution_count": 11,
   "id": "a3d293c7-c2ea-4e80-b195-fca61109c6ae",
   "metadata": {},
   "outputs": [
    {
     "name": "stdout",
     "output_type": "stream",
     "text": [
      "  Source  ddof1  ddof2         F     p-unc  p-GG-corr       ng2       eps  \\\n",
      "0  Store      2     58  0.798885  0.454718   0.435682  0.021104  0.837901   \n",
      "\n",
      "   sphericity   W-spher   p-spher  \n",
      "0       False  0.806541  0.049291  \n"
     ]
    }
   ],
   "source": [
    "import pandas as pd\n",
    "import pingouin as pg\n",
    "\n",
    "# Sample data (replace with your actual data)\n",
    "data = {\n",
    "    'Store_A': [30, 35, 25, 40, 45, 50, 35, 40, 30, 45, 35, 40, 50, 55, 45, 50, 55, 60, 50, 55, 45, 40, 35, 30, 25, 20, 15, 10, 20, 30],\n",
    "    'Store_B': [25, 30, 40, 35, 50, 45, 40, 35, 30, 25, 20, 15, 25, 30, 40, 35, 40, 30, 25, 20, 30, 35, 40, 45, 50, 55, 60, 55, 50, 45],\n",
    "    'Store_C': [20, 25, 30, 35, 25, 20, 30, 35, 40, 45, 50, 55, 45, 40, 50, 55, 60, 50, 45, 55, 60, 35, 40, 45, 50, 55, 40, 35, 30, 25],\n",
    "}\n",
    "\n",
    "df = pd.DataFrame(data)\n",
    "\n",
    "# Add a 'Subject' column\n",
    "df['Subject'] = range(1, len(df) + 1)\n",
    "\n",
    "# Perform repeated measures ANOVA\n",
    "rm_anova = pg.rm_anova(df.melt(id_vars=['Subject'], value_name='Sales', var_name='Store'), dv='Sales', within='Store', subject='Subject')\n",
    "\n",
    "# Print ANOVA results\n",
    "print(rm_anova)\n",
    "\n",
    "# Post-hoc test if ANOVA is significant\n",
    "if rm_anova['p-unc'][0] < 0.05:\n",
    "    posthoc = pg.pairwise_ttests(data=df.melt(id_vars=['Subject'], value_name='Sales', var_name='Store'), dv='Sales', within='Store', subject='Subject', parametric=True, padjust='bonf')\n",
    "    print(posthoc)\n"
   ]
  },
  {
   "cell_type": "markdown",
   "id": "f61293fc-20ce-4680-8c38-c3867220e182",
   "metadata": {},
   "source": [
    "This example assumes that your data is structured with each store's sales as a separate column and with repeated measures (days) for each store. The 'Subject' column represents the repeated measure factor.\r\n",
    "\r\n",
    "Make sure to replace the sample data with your actual data. The pairwise_ttests function performs post-hoc tests to compare the means of the different levels of the repeated measure factor (stores) after a significant ANOVA result."
   ]
  },
  {
   "cell_type": "code",
   "execution_count": null,
   "id": "25b8ee03-21b8-475a-87ad-265cb6754b68",
   "metadata": {},
   "outputs": [],
   "source": []
  }
 ],
 "metadata": {
  "kernelspec": {
   "display_name": "Python 3 (ipykernel)",
   "language": "python",
   "name": "python3"
  },
  "language_info": {
   "codemirror_mode": {
    "name": "ipython",
    "version": 3
   },
   "file_extension": ".py",
   "mimetype": "text/x-python",
   "name": "python",
   "nbconvert_exporter": "python",
   "pygments_lexer": "ipython3",
   "version": "3.11.5"
  }
 },
 "nbformat": 4,
 "nbformat_minor": 5
}
