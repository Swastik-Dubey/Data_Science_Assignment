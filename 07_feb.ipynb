{
 "cells": [
  {
   "cell_type": "markdown",
   "id": "992deb0e",
   "metadata": {},
   "source": [
    "# Q1. You are writing code for a company. The requirement of the company is that you create a python function that will check whether the password entered by the user is correct or not. The function should take the password as input and return the string “Valid Password” if the entered password follows the below-given password guidelines else it should return “Invalid Password”.\n",
    "Note: 1. The Password should contain at least two uppercase letters and at least two lowercase letters.\n",
    "2. The Password should contain at least a number and three special characters.\n",
    "3. The length of the password should be 10 characters long."
   ]
  },
  {
   "cell_type": "code",
   "execution_count": 9,
   "id": "dccd1e4a",
   "metadata": {},
   "outputs": [
    {
     "name": "stdout",
     "output_type": "stream",
     "text": [
      "Enter the password :HGer1@#$re\n",
      "Valid Password\n"
     ]
    }
   ],
   "source": [
    "password=input(\"Enter the password :\")\n",
    "a,b,c,d=0,0,0,0\n",
    "special_char='@_!#$%^&*()<>?/\\|}{~:'\n",
    "for i in password:\n",
    "    \n",
    "    if i.isupper()==True:\n",
    "        a=a+1\n",
    "    elif i.islower()==True:\n",
    "        b=b+1\n",
    "    elif i.isnumeric()==True:\n",
    "        c=c+1\n",
    "    for j in special_char:\n",
    "        if i==j:\n",
    "            d=d+1\n",
    "e=len(password) \n",
    "\n",
    "if a>=2 and b>=2 and c>=1 and d==3 and e==10:\n",
    "    print(\"Valid Password\")\n",
    "else:\n",
    "    print(\"Invalid Password\")"
   ]
  },
  {
   "cell_type": "markdown",
   "id": "813306cf",
   "metadata": {},
   "source": [
    "# Q2. Solve the below-given questions using at least one of the following:"
   ]
  },
  {
   "cell_type": "code",
   "execution_count": 11,
   "id": "aa96c127",
   "metadata": {},
   "outputs": [
    {
     "data": {
      "text/plain": [
       "'\\n1. Lambda functioJ\\n2. Filter functioJ\\n3. Zap functioJ\\n4. List ComprehensioI\\n. Check if the string starts with a particular letterY\\n. Check if the string is numericY\\n. Sort a list of tuples having fruit names and their quantity. [(\"mango\",99),(\"orange\",80), (\"grapes\", 1000)-\\n. Find the squares of numbers from 1 to 10Y\\n. Find the cube root of numbers from 1 to 10Y\\n. Check if a given number is evenY\\n. Filter odd numbers from the given list.\\n[1,2,3,4,5,6,7,8,9,10-\\n. Sort a list of integers into positive and negative integers lists.\\n[1,2,3,4,5,6,-1,-2,-3,-4,-5,0]'"
      ]
     },
     "execution_count": 11,
     "metadata": {},
     "output_type": "execute_result"
    }
   ],
   "source": [
    "'''\n",
    "1. Lambda function\n",
    "2. Filter function\n",
    "3. map function\n",
    "4. List Comprehension\n",
    ". Check if the string starts with a particular letter.\n",
    ". Check if the string is numeric.\n",
    ". Sort a list of tuples having fruit names and their quantity. [(\"mango\",99),(\"orange\",80), (\"grapes\", 1000)-\n",
    ". Find the squares of numbers from 1 to 10.\n",
    ". Find the cube root of numbers from 1 to 10.\n",
    ". Check if a given number is evenY\n",
    ". Filter odd numbers from the given list.\n",
    "[1,2,3,4,5,6,7,8,9,10-\n",
    ". Sort a list of integers into positive and negative integers lists.\n",
    "[1,2,3,4,5,6,-1,-2,-3,-4,-5,0]'''"
   ]
  },
  {
   "cell_type": "code",
   "execution_count": 19,
   "id": "66b8bd4f",
   "metadata": {},
   "outputs": [
    {
     "data": {
      "text/plain": [
       "False"
      ]
     },
     "execution_count": 19,
     "metadata": {},
     "output_type": "execute_result"
    }
   ],
   "source": [
    "#. Check if the string starts with a particular letter.\n",
    "a=\"helloall\"\n",
    "\n",
    "a.startswith('a')"
   ]
  },
  {
   "cell_type": "code",
   "execution_count": 20,
   "id": "e0592fa9",
   "metadata": {},
   "outputs": [
    {
     "data": {
      "text/plain": [
       "True"
      ]
     },
     "execution_count": 20,
     "metadata": {},
     "output_type": "execute_result"
    }
   ],
   "source": [
    "#Check if the string is numeric.\n",
    "a=\"23\"\n",
    "a.isnumeric()"
   ]
  },
  {
   "cell_type": "code",
   "execution_count": 22,
   "id": "a3ab53ce",
   "metadata": {},
   "outputs": [
    {
     "name": "stdout",
     "output_type": "stream",
     "text": [
      "[('orange', 80), ('mango', 99), ('grapes', 1000)]\n"
     ]
    }
   ],
   "source": [
    "#Sort a list of tuples having fruit names and their quantity. [(\"mango\",99),(\"orange\",80), (\"grapes\", 1000)]\n",
    "a=[(\"mango\",99),(\"orange\",80), (\"grapes\", 1000)]\n",
    "newList = sorted(a, key = lambda x : x[1])\n",
    "print(newList )"
   ]
  },
  {
   "cell_type": "code",
   "execution_count": 23,
   "id": "666593f9",
   "metadata": {},
   "outputs": [
    {
     "data": {
      "text/plain": [
       "[1, 4, 9, 16, 25, 36, 49, 64, 81, 100]"
      ]
     },
     "execution_count": 23,
     "metadata": {},
     "output_type": "execute_result"
    }
   ],
   "source": [
    "#Find the squares of numbers from 1 to 10.\n",
    "a=[1,2,3,4,5,6,7,8,9,10]\n",
    "list(map(lambda x : x**2 , a))"
   ]
  },
  {
   "cell_type": "code",
   "execution_count": 25,
   "id": "7b5cafad",
   "metadata": {},
   "outputs": [
    {
     "data": {
      "text/plain": [
       "[1.0,\n",
       " 1.2599210498948732,\n",
       " 1.4422495703074083,\n",
       " 1.5874010519681994,\n",
       " 1.7099759466766968,\n",
       " 1.8171205928321397,\n",
       " 1.912931182772389,\n",
       " 2.0,\n",
       " 2.080083823051904,\n",
       " 2.154434690031884]"
      ]
     },
     "execution_count": 25,
     "metadata": {},
     "output_type": "execute_result"
    }
   ],
   "source": [
    "#Find the cube root of numbers from 1 to 10.\n",
    "a=[1,2,3,4,5,6,7,8,9,10]\n",
    "list(map(lambda x : x**(1/3) , a))"
   ]
  },
  {
   "cell_type": "code",
   "execution_count": 28,
   "id": "7533ede2",
   "metadata": {},
   "outputs": [
    {
     "name": "stdout",
     "output_type": "stream",
     "text": [
      "even\n"
     ]
    }
   ],
   "source": [
    "#Check if a given number is even.\n",
    "a=10\n",
    "if a%2==0:\n",
    "    print(\"even\")\n",
    "else:\n",
    "    print(\"odd\")"
   ]
  },
  {
   "cell_type": "code",
   "execution_count": 30,
   "id": "4b0de751",
   "metadata": {},
   "outputs": [
    {
     "data": {
      "text/plain": [
       "[1, 3, 5, 7, 9]"
      ]
     },
     "execution_count": 30,
     "metadata": {},
     "output_type": "execute_result"
    }
   ],
   "source": [
    "#Filter odd numbers from the given list.\n",
    "a=[1,2,3,4,5,6,7,8,9,10]\n",
    "list(filter(lambda x : x %2!=0 , a))"
   ]
  },
  {
   "cell_type": "code",
   "execution_count": 31,
   "id": "35f9a4d1",
   "metadata": {},
   "outputs": [
    {
     "name": "stdout",
     "output_type": "stream",
     "text": [
      "[1, 2, 3, 4, 5, 6]\n"
     ]
    }
   ],
   "source": [
    "#Sort a list of integers into positive and negative integers lists.\n",
    "a=[1,2,3,4,5,6,-1,-2,-3,-4,-5,0]\n",
    "positive=list(filter(lambda x : x >0 , a))\n",
    "negative=list(filter(lambda x : x <0 , a))\n",
    "print(positive)"
   ]
  },
  {
   "cell_type": "code",
   "execution_count": 32,
   "id": "d37adf34",
   "metadata": {},
   "outputs": [
    {
     "name": "stdout",
     "output_type": "stream",
     "text": [
      "[-1, -2, -3, -4, -5]\n"
     ]
    }
   ],
   "source": [
    "print(negative)"
   ]
  },
  {
   "cell_type": "code",
   "execution_count": null,
   "id": "729e80bb",
   "metadata": {},
   "outputs": [],
   "source": []
  }
 ],
 "metadata": {
  "kernelspec": {
   "display_name": "Python 3 (ipykernel)",
   "language": "python",
   "name": "python3"
  },
  "language_info": {
   "codemirror_mode": {
    "name": "ipython",
    "version": 3
   },
   "file_extension": ".py",
   "mimetype": "text/x-python",
   "name": "python",
   "nbconvert_exporter": "python",
   "pygments_lexer": "ipython3",
   "version": "3.9.16"
  }
 },
 "nbformat": 4,
 "nbformat_minor": 5
}
