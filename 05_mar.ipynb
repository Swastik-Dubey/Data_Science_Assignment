{
 "cells": [
  {
   "cell_type": "markdown",
   "id": "921a42c2",
   "metadata": {},
   "source": [
    "# Q1. How can you create a Bokeh plot using Python code?"
   ]
  },
  {
   "cell_type": "markdown",
   "id": "0b6ac911",
   "metadata": {},
   "source": [
    "Below are common steps to be followed to create graphs.\n",
    "\n",
    "Calling output_notebook() for displaying graphs in Jupyter Notebook or output_file() for opening in new tab / saving to file from bokeh.io.\n",
    "\n",
    "Create Figure object using figure() function of bokeh.plotting Module.\n",
    "\n",
    "Add Glyphs (lines, points, bars, etc) to figure by calling methods like circle(), line(), vbar(), varea(), etc on Figure object.\n",
    "\n",
    "Calling show() method for showing graphs in jupyter notebook/new browser tab or save() for saving to file from bokeh.io."
   ]
  },
  {
   "cell_type": "markdown",
   "id": "3e9ad786",
   "metadata": {},
   "source": [
    "\n",
    "# Q2. What are glyphs in Bokeh, and how can you add them to a Bokeh plot? Explain with an example.\n"
   ]
  },
  {
   "cell_type": "markdown",
   "id": "5693a649",
   "metadata": {},
   "source": [
    "Glyphs are the building blocks of Bokeh visualizations. A glyph is a vectorized graphical shape or marker that is used to represent your data. Here are a few different categories of glyphs. 00:15 They can be a marker—shapes like circles, diamonds, squares, and triangles."
   ]
  },
  {
   "cell_type": "markdown",
   "id": "613d2f94",
   "metadata": {},
   "source": [
    "You can display images on Bokeh plots using the image() , image_rgba() , and image_url() glyph methods. You can use hovering tooltips with image glyphs to let the user see the values of each pixel. For more information on how to enable hovering tooltips for images, see Image hover."
   ]
  },
  {
   "cell_type": "markdown",
   "id": "04167f4c",
   "metadata": {},
   "source": [
    "# Q3. How can you customize the appearance of a Bokeh plot, including the axes, title, and legend?"
   ]
  },
  {
   "cell_type": "markdown",
   "id": "870b754c",
   "metadata": {},
   "source": [
    "The legend of a graph reflects the data displayed in the graph’s Y-axis. In Bokeh, the legends correspond to glyphs. This article how Legends appearing in the bokeh plot can be customized.\n",
    "\n",
    "We can customize the legend with its several attributes such as location, color, line-color, font-size, font-style line width. We can modify it using the legend attribute with the required property name. "
   ]
  },
  {
   "cell_type": "markdown",
   "id": "1cca40e9",
   "metadata": {},
   "source": [
    "Syntax : legend.property_name=value\n",
    "\n",
    "Parameter:"
   ]
  },
  {
   "cell_type": "markdown",
   "id": "b9c91f8f",
   "metadata": {},
   "source": [
    "Here property name can take the following values:\n",
    "\n",
    "location\n",
    "\n",
    "title\n",
    "\n",
    "label_text_font\n",
    "\n",
    "label_text_font_style\n",
    "\n",
    "label_text_color\n",
    "\n",
    "border_line_width\n",
    "\n",
    "border_line_color\n",
    "\n",
    "border_line_alpha\n",
    "\n",
    "background_fill_color\n",
    "\n",
    "background_fill_alpha\n",
    "\n",
    "\n",
    "Approach:\n",
    "\n",
    "Import module\n",
    "\n",
    "Draw a normal plot\n",
    "\n",
    "Customize accordingly\n",
    "\n",
    "Display plot"
   ]
  },
  {
   "cell_type": "markdown",
   "id": "34b3d456",
   "metadata": {},
   "source": [
    "# Q4. What is a Bokeh server, and how can you use it to create interactive plots that can be updated in real time?"
   ]
  },
  {
   "cell_type": "markdown",
   "id": "445021f1",
   "metadata": {},
   "source": [
    "Bokeh server makes it easy to create interactive web applications that connect front-end UI events to running Python code. Bokeh creates high-level Python models, such as plots, ranges, axes, and glyphs, and then converts these objects to JSON to pass them to its client library, BokehJS."
   ]
  },
  {
   "cell_type": "markdown",
   "id": "5d5b1dd8",
   "metadata": {},
   "source": [
    "Plotly produces interactive graphs, can be embedded on websites, and provides a wide variety of complex plotting options. The graphs and plots are robust, and a wide variety of people can use them."
   ]
  },
  {
   "cell_type": "markdown",
   "id": "79ab0f7d",
   "metadata": {},
   "source": [
    "# Q5. How can you embed a Bokeh plot into a web page or dashboard using Flask or Django?"
   ]
  },
  {
   "cell_type": "markdown",
   "id": "efbef63f",
   "metadata": {},
   "source": [
    "Step 1: Setting up a basic Django project\n",
    "\n",
    "For this project, we are using PyCharm IDE. PyCharm is one of the most popular IDE used for the python Scripting language.\n",
    "\n",
    "Open PyCharm and create a new project and save it as BokehProject.\n",
    "Go to the terminal and install Django using the command:"
   ]
  },
  {
   "cell_type": "markdown",
   "id": "899035b0",
   "metadata": {},
   "source": [
    "Step 2: Create the Django project  \n",
    "\n",
    "Create a Django project using the following command:\n",
    "\n",
    "Change the project folder \n",
    "\n",
    "Run manage.py to initially migrate data changes to our project by using migrate \n",
    "\n",
    "Create a superuser using the following command to create a superuser account\n",
    "\n",
    "Add the name, email, and password."
   ]
  },
  {
   "cell_type": "markdown",
   "id": "94ed3351",
   "metadata": {},
   "source": [
    "Now let us run the command below command to check if Django is installed successfully.\n",
    "\n",
    "Navigate to the address http://127.0.0.1:8000/ and you will see something like this.\n"
   ]
  },
  {
   "cell_type": "markdown",
   "id": "6263721e",
   "metadata": {},
   "source": [
    "Now we create a Django application using the following command\n",
    "\n",
    "Step 3:Complete Bokeh Setup into our project:\n",
    "\n",
    "Go to your python shell and check the version of Bokeh as:"
   ]
  },
  {
   "cell_type": "markdown",
   "id": "27fac672",
   "metadata": {},
   "source": [
    "Now let’s create a template folder in our BokehApp directory and save it as templates. Create a new file in the templates directory and save it as base.html.\n",
    "Add the following links of CSS in your base.html file in the head tag and replace the version of your bokeh at the place bokeh-x.y.z.min (underlined place x.y.z.)"
   ]
  },
  {
   "cell_type": "code",
   "execution_count": null,
   "id": "b77a2446",
   "metadata": {},
   "outputs": [],
   "source": [
    "\"\"\"\n",
    "<link href=”http://cdn.pydata.org/bokeh/release/bokeh-2.3.2.min.css\n",
    "\" rel=”stylesheet” type=”text/css”>\n",
    "<link href=”http://cdn.pydata.org/bokeh/release/bokeh-widgets-2.3.2.min.css\"\n",
    "rel=”stylesheet” type=”text/css”>\n",
    "\"\"\""
   ]
  },
  {
   "cell_type": "markdown",
   "id": "2c5a4de0",
   "metadata": {},
   "source": [
    "And the JavaScript links below the ending body tag i.e., after </body>  and similarly replace your bokeh version at x.y.z"
   ]
  },
  {
   "cell_type": "code",
   "execution_count": 2,
   "id": "7e6d8841",
   "metadata": {},
   "outputs": [
    {
     "data": {
      "text/plain": [
       "'\\n<script src=\"https://cdn.bokeh.org/bokeh/release/bokeh-2.3.2.min.js\"></script>\\n<script src=\"https://cdn.bokeh.org/bokeh/release/bokeh-widgets-2.3.2.min.js\"></script>\\n<script src=\"https://cdn.bokeh.org/bokeh/release/bokeh-tables-2.3.2.min.js\"></script>\\n<script src=\"https://cdn.bokeh.org/bokeh/release/bokeh-api-2.3.2.min.js\"></script>\\n'"
      ]
     },
     "execution_count": 2,
     "metadata": {},
     "output_type": "execute_result"
    }
   ],
   "source": [
    "\"\"\"\n",
    "<script src=\"https://cdn.bokeh.org/bokeh/release/bokeh-2.3.2.min.js\"></script>\n",
    "<script src=\"https://cdn.bokeh.org/bokeh/release/bokeh-widgets-2.3.2.min.js\"></script>\n",
    "<script src=\"https://cdn.bokeh.org/bokeh/release/bokeh-tables-2.3.2.min.js\"></script>\n",
    "<script src=\"https://cdn.bokeh.org/bokeh/release/bokeh-api-2.3.2.min.js\"></script>\n",
    "\"\"\""
   ]
  },
  {
   "cell_type": "markdown",
   "id": "017c0cb0",
   "metadata": {},
   "source": [
    "The base.html file looks like"
   ]
  },
  {
   "cell_type": "code",
   "execution_count": 3,
   "id": "2c0ed3f0",
   "metadata": {},
   "outputs": [
    {
     "data": {
      "text/plain": [
       "'\\n<html>\\n<head>\\n\\t<link href=”http://cdn.pydata.org/bokeh/release/bokeh-2.3.2.min.css\\n\\t\\t\" rel=”stylesheet” type=”text/css”>\\n\\t<link href=”http://cdn.pydata.org/bokeh/release/bokeh-widgets-2.3.2.min.css\"\\n\\t\\trel=”stylesheet” type=”text/css”>\\n</head>\\n<body>\\n\\t<h1>Our first Bokeh Graph</h1>\\n\\t{{div| safe}}\\n</body>\\n<script src=\"https://cdn.bokeh.org/bokeh/release/bokeh-2.3.2.min.js\"></script>\\n<script src=\"https://cdn.bokeh.org/bokeh/release/bokeh-widgets-2.3.2.min.js\"></script>\\n<script src=\"https://cdn.bokeh.org/bokeh/release/bokeh-tables-2.3.2.min.js\"></script>\\n<script src=\"https://cdn.bokeh.org/bokeh/release/bokeh-api-2.3.2.min.js\"></script>\\n{{script| safe}}\\n</html>\\n'"
      ]
     },
     "execution_count": 3,
     "metadata": {},
     "output_type": "execute_result"
    }
   ],
   "source": [
    "\"\"\"\n",
    "<html>\n",
    "<head>\n",
    "\t<link href=”http://cdn.pydata.org/bokeh/release/bokeh-2.3.2.min.css\n",
    "\t\t\" rel=”stylesheet” type=”text/css”>\n",
    "\t<link href=”http://cdn.pydata.org/bokeh/release/bokeh-widgets-2.3.2.min.css\"\n",
    "\t\trel=”stylesheet” type=”text/css”>\n",
    "</head>\n",
    "<body>\n",
    "\t<h1>Our first Bokeh Graph</h1>\n",
    "\t{{div| safe}}\n",
    "</body>\n",
    "<script src=\"https://cdn.bokeh.org/bokeh/release/bokeh-2.3.2.min.js\"></script>\n",
    "<script src=\"https://cdn.bokeh.org/bokeh/release/bokeh-widgets-2.3.2.min.js\"></script>\n",
    "<script src=\"https://cdn.bokeh.org/bokeh/release/bokeh-tables-2.3.2.min.js\"></script>\n",
    "<script src=\"https://cdn.bokeh.org/bokeh/release/bokeh-api-2.3.2.min.js\"></script>\n",
    "{{script| safe}}\n",
    "</html>\n",
    "\"\"\""
   ]
  },
  {
   "cell_type": "markdown",
   "id": "304759fc",
   "metadata": {},
   "source": [
    "Let us now replace the view function home so that it renders our first graph. Add the below code which creates basic circle scatter marks on our plot:"
   ]
  },
  {
   "cell_type": "code",
   "execution_count": 5,
   "id": "7e934dd4",
   "metadata": {},
   "outputs": [
    {
     "data": {
      "text/plain": [
       "'from django.shortcuts import render\\nfrom django.http import HttpResponse\\nfrom bokeh.plotting import figure\\nfrom bokeh.embed import components\\n\\n# Create your views here.\\n\\ndef home(request):\\n\\n#create a plot\\n\\tplot = figure(plot_width=400, plot_height=400)\\n\\n# add a circle renderer with a size, color, and alpha\\n\\nplot.circle([1, 2, 3, 4, 5], [6, 7, 2, 4, 5], size=20, color=\"navy\", alpha=0.5)\\n\\nscript, div = components(plot)\\n\\nreturn render(request, \\'base.html\\', {\\'script\\': script, \\'div\\': div})\\n'"
      ]
     },
     "execution_count": 5,
     "metadata": {},
     "output_type": "execute_result"
    }
   ],
   "source": [
    "\"\"\"from django.shortcuts import render\n",
    "from django.http import HttpResponse\n",
    "from bokeh.plotting import figure\n",
    "from bokeh.embed import components\n",
    "\n",
    "# Create your views here.\n",
    "\n",
    "def home(request):\n",
    "\n",
    "#create a plot\n",
    "\tplot = figure(plot_width=400, plot_height=400)\n",
    "\n",
    "# add a circle renderer with a size, color, and alpha\n",
    "\n",
    "plot.circle([1, 2, 3, 4, 5], [6, 7, 2, 4, 5], size=20, color=\"navy\", alpha=0.5)\n",
    "\n",
    "script, div = components(plot)\n",
    "\n",
    "return render(request, 'base.html', {'script': script, 'div': div})\n",
    "\"\"\""
   ]
  },
  {
   "cell_type": "markdown",
   "id": "10b310a8",
   "metadata": {},
   "source": [
    "The components method returns a script that contains the data for your plot and provides a <div>tag to display the plot view. These two elements can be inserted into the HTML text and the <script> when executed will replace the div with the plot.\n",
    "The circle method is a glyph method which is a method of the figure object. Glyphs are the basic visual building blocks of Bokeh plots. This includes elements such as lines, rectangles, squares, wedges, or the circles of a scatter plot\n",
    "The plot variable enables us to create a plot that holds all the various objects such as glyphs, annotations, etc. of a visualization.\n",
    "So let us refresh our page after saving all the files and the output will be as shown below."
   ]
  },
  {
   "attachments": {
    "image.png": {
     "image/png": "[encoded data removed]"
    }
   },
   "cell_type": "markdown",
   "id": "d5d82ac5",
   "metadata": {},
   "source": [
    "![image.png](attachment:image.png)"
   ]
  },
  {
   "cell_type": "code",
   "execution_count": null,
   "id": "7a028f45",
   "metadata": {},
   "outputs": [],
   "source": []
  }
 ],
 "metadata": {
  "kernelspec": {
   "display_name": "Python 3 (ipykernel)",
   "language": "python",
   "name": "python3"
  },
  "language_info": {
   "codemirror_mode": {
    "name": "ipython",
    "version": 3
   },
   "file_extension": ".py",
   "mimetype": "text/x-python",
   "name": "python",
   "nbconvert_exporter": "python",
   "pygments_lexer": "ipython3",
   "version": "3.10.9"
  }
 },
 "nbformat": 4,
 "nbformat_minor": 5
}
