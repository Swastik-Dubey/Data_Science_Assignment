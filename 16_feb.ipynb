{
 "cells": [
  {
   "cell_type": "markdown",
   "id": "114442ac",
   "metadata": {},
   "source": [
    "# Q1. What is a database? Differentiate between SQL and NoSQL databases."
   ]
  },
  {
   "cell_type": "markdown",
   "id": "04006272",
   "metadata": {},
   "source": [
    "Ans. A database is an organized collection of structured information, or data, typically stored electronically in a computer system. A database is usually controlled by a database management system (DBMS). Together, the data and the DBMS, along with the applications that are associated with them, are referred to as a database system, often shortened to just database."
   ]
  },
  {
   "cell_type": "markdown",
   "id": "c8fb472f",
   "metadata": {},
   "source": [
    "SQL databases are primarily called as Relational Databases (RDBMS); whereas NoSQL database are primarily called as non-relational or distributed database. \n",
    "\n",
    "SQL databases are vertically scalable, while NoSQL databases are horizontally scalable. SQL databases are table-based, while NoSQL databases are document, key-value, graph, or wide-column stores. SQL databases are better for multi-row transactions, while NoSQL is better for unstructured data like documents or JSON."
   ]
  },
  {
   "cell_type": "markdown",
   "id": "46773a44",
   "metadata": {},
   "source": [
    "# Q2. What is DDL? Explain why CREATE, DROP, ALTER, and TRUNCATE are used with an example."
   ]
  },
  {
   "cell_type": "markdown",
   "id": "162b97ac",
   "metadata": {},
   "source": [
    "Ans.Data definition language (DDL) describes the portion of SQL that creates, alters, and deletes database objects. These database objects include schemas, tables, views, sequences, catalogs, indexes, variables, masks, permissions, and aliases."
   ]
  },
  {
   "cell_type": "markdown",
   "id": "0b4014c7",
   "metadata": {},
   "source": [
    "The CREATE TABLE command creates a new table in the database.\n",
    "\n",
    "The following SQL creates a table called \"Persons\" that contains five columns: PersonID, LastName, FirstName, Address, and City:"
   ]
  },
  {
   "cell_type": "code",
   "execution_count": null,
   "id": "f9549486",
   "metadata": {},
   "outputs": [],
   "source": [
    "\"\"\"\n",
    "CREATE TABLE Persons (\n",
    "    PersonID int,\n",
    "    LastName varchar(255),\n",
    "    FirstName varchar(255),\n",
    "    Address varchar(255),\n",
    "    City varchar(255)\n",
    ");\"\"\""
   ]
  },
  {
   "cell_type": "markdown",
   "id": "8dac1d91",
   "metadata": {},
   "source": [
    "The DROP TABLE command deletes a table in the database.\n",
    "\n",
    "The following SQL deletes the table \"Shippers\":"
   ]
  },
  {
   "cell_type": "code",
   "execution_count": 1,
   "id": "ae60e9bb",
   "metadata": {},
   "outputs": [],
   "source": [
    "# DROP TABLE Shippers;"
   ]
  },
  {
   "cell_type": "markdown",
   "id": "9278fbb7",
   "metadata": {},
   "source": [
    "The ALTER TABLE command adds, deletes, or modifies columns in a table.\n",
    "\n",
    "The ALTER TABLE command also adds and deletes various constraints in a table.\n",
    "\n",
    "The following SQL adds an \"Email\" column to the \"Customers\" table:"
   ]
  },
  {
   "cell_type": "code",
   "execution_count": 2,
   "id": "e6377ccb",
   "metadata": {},
   "outputs": [],
   "source": [
    "# ALTER TABLE Customers\n",
    "# ADD Email varchar(255);"
   ]
  },
  {
   "cell_type": "markdown",
   "id": "d4d358ed",
   "metadata": {},
   "source": [
    "The TRUNCATE TABLE command deletes the data inside a table, but not the table itself.\n",
    "\n",
    "The following SQL truncates the table \"Categories\": "
   ]
  },
  {
   "cell_type": "code",
   "execution_count": 3,
   "id": "d732ecdc",
   "metadata": {},
   "outputs": [],
   "source": [
    "# TRUNCATE TABLE Categories;"
   ]
  },
  {
   "cell_type": "markdown",
   "id": "0778aeae",
   "metadata": {},
   "source": [
    "# Q3. What is DML? Explain INSERT, UPDATE, and DELETE with an example."
   ]
  },
  {
   "cell_type": "markdown",
   "id": "821f1013",
   "metadata": {},
   "source": [
    "Ans. A DML (data manipulation language) refers to a computer programming language that allows you to add (insert), delete (delete), and alter (update) data in a database. A DML is typically a sublanguage of a larger database language like SQL, with the DML containing some of the language's operators."
   ]
  },
  {
   "cell_type": "markdown",
   "id": "106b77b2",
   "metadata": {},
   "source": [
    "The INSERT statement introduces new rows into an existing table.\n",
    "\n",
    "The DELETE statement removes a row or combination of rows from a table.\n",
    "\n",
    "The UPDATE statement enables users to update a row or group of rows in a table"
   ]
  },
  {
   "cell_type": "markdown",
   "id": "2e9f0456",
   "metadata": {},
   "source": [
    "The INSERT INTO statement is used to insert new records in a table.\n",
    " \n",
    "It is possible to write the INSERT INTO statement in two ways.\n",
    " \n",
    "The first way specifies both the column names and the values to be inserted.\n",
    " \n",
    "If you are adding values for all the columns of the table, then no need to specify the column names in the SQL query. However, make sure that the order of the values is in the same order as the columns in the table."
   ]
  },
  {
   "cell_type": "code",
   "execution_count": 4,
   "id": "d7aaa330",
   "metadata": {},
   "outputs": [
    {
     "data": {
      "text/plain": [
       "\"\\nINSERT INTO Employee    (EmpId,LastName,FirstName,ADDRESS,City)\\nVALUES (1, 'XYZ', 'ABC', 'India', 'Mumbai' ); \\n  INSERT INTO Employee (EmpId,LastName,FirstName,ADDRESS,City)\\nVALUES (2, 'X', 'A', 'India', 'Pune' );\""
      ]
     },
     "execution_count": 4,
     "metadata": {},
     "output_type": "execute_result"
    }
   ],
   "source": [
    "\"\"\"\n",
    "INSERT INTO Employee    (EmpId,LastName,FirstName,ADDRESS,City)\n",
    "VALUES (1, 'XYZ', 'ABC', 'India', 'Mumbai' ); \n",
    "  INSERT INTO Employee (EmpId,LastName,FirstName,ADDRESS,City)\n",
    "VALUES (2, 'X', 'A', 'India', 'Pune' );\"\"\""
   ]
  },
  {
   "cell_type": "markdown",
   "id": "8b30efe2",
   "metadata": {},
   "source": [
    "The UPDATE statement is used to modify the existing records in a table."
   ]
  },
  {
   "cell_type": "code",
   "execution_count": 5,
   "id": "81eb3e00",
   "metadata": {},
   "outputs": [
    {
     "data": {
      "text/plain": [
       "\"\\nUPDATE Employee  \\nSET FirstName= 'KS', City= 'Pune'  \\nWHERE EmpId= 1;\""
      ]
     },
     "execution_count": 5,
     "metadata": {},
     "output_type": "execute_result"
    }
   ],
   "source": [
    "\"\"\"\n",
    "UPDATE Employee  \n",
    "SET FirstName= 'KS', City= 'Pune'  \n",
    "WHERE EmpId= 1;\"\"\""
   ]
  },
  {
   "cell_type": "markdown",
   "id": "68e04f67",
   "metadata": {},
   "source": [
    "The DELETE statement is used to delete existing records in a table for a particular Record."
   ]
  },
  {
   "cell_type": "code",
   "execution_count": 6,
   "id": "a4b4ed7d",
   "metadata": {},
   "outputs": [],
   "source": [
    "# DELETE FROM Employee WHERE EmpId=1; "
   ]
  },
  {
   "cell_type": "markdown",
   "id": "0bfff878",
   "metadata": {},
   "source": [
    "# Q4. What is DQL? Explain SELECT with an example."
   ]
  },
  {
   "cell_type": "markdown",
   "id": "7cf36262",
   "metadata": {},
   "source": [
    "Ans. The full form of DQL is Data Query Language. DQL is a part of the grouping involved in SQL (Structures Query Language) sub-languages"
   ]
  },
  {
   "cell_type": "markdown",
   "id": "43a02b37",
   "metadata": {},
   "source": [
    "The SELECT statement is used to select data from a database.\n",
    " \n",
    "The data returned is stored in a result table, called the result-set."
   ]
  },
  {
   "cell_type": "code",
   "execution_count": 7,
   "id": "f5cdbb25",
   "metadata": {},
   "outputs": [],
   "source": [
    "# SELECT * FROM table_name;  "
   ]
  },
  {
   "cell_type": "markdown",
   "id": "ebf260e2",
   "metadata": {},
   "source": [
    "# Q5. Explain Primary Key and Foreign Key."
   ]
  },
  {
   "cell_type": "markdown",
   "id": "38babf77",
   "metadata": {},
   "source": [
    "Ans. A primary key uniquely identifies a row in a table, while a foreign key is used to link two tables together by referencing the primary key of the related table. The most important difference that you should note here is that a primary key cannot have a NULL value, whereas a foreign key can accept NULL values."
   ]
  },
  {
   "cell_type": "markdown",
   "id": "cce05ee2",
   "metadata": {},
   "source": [
    "# Q6. Write a python code to connect MySQL to python. Explain the cursor() and execute() method."
   ]
  },
  {
   "cell_type": "code",
   "execution_count": 9,
   "id": "39fd1011",
   "metadata": {},
   "outputs": [
    {
     "data": {
      "text/plain": [
       "'\\nimport mysql.connector\\n# import mysql.connector\\n#create user \\'user\\'@\\'%\\' identified by \\'password\\'\\nmydb = mysql.connector.connect(\\n  host=\"localhost\",\\n  user=\"abc\",\\n  password=\"password\"\\n)\\n'"
      ]
     },
     "execution_count": 9,
     "metadata": {},
     "output_type": "execute_result"
    }
   ],
   "source": [
    "\"\"\"\n",
    "import mysql.connector\n",
    "# import mysql.connector\n",
    "#create user 'user'@'%' identified by 'password'\n",
    "mydb = mysql.connector.connect(\n",
    "  host=\"localhost\",\n",
    "  user=\"abc\",\n",
    "  password=\"password\"\n",
    ")\n",
    "\"\"\""
   ]
  },
  {
   "cell_type": "markdown",
   "id": "5391fb45",
   "metadata": {},
   "source": [
    "cursor() must return an instance of <module>. Cursor , and <module>. Cursor. execute() should invoke the statement provided and return the resulting rows."
   ]
  },
  {
   "cell_type": "markdown",
   "id": "3728f73a",
   "metadata": {},
   "source": [
    "# Q7. Give the order of execution of SQL clauses in an SQL query."
   ]
  },
  {
   "cell_type": "code",
   "execution_count": 10,
   "id": "268de842",
   "metadata": {},
   "outputs": [
    {
     "data": {
      "text/plain": [
       "'\\nOrder\\tClause\\tFunction\\n1\\tFROM\\tTables are joined to get the base data.\\n2\\tWHERE\\tThe base data is filtered.\\n3\\tGROUP BY\\tThe filtered base data is grouped.\\n4\\tHAVING\\tThe grouped base data is filtered.\\n5\\tSELECT\\tThe final data is returned.\\n6\\tORDER BY\\tThe final data is sorted.\\n7\\tLIMIT\\tThe returned data is limited to row count.'"
      ]
     },
     "execution_count": 10,
     "metadata": {},
     "output_type": "execute_result"
    }
   ],
   "source": [
    "\n",
    "\"\"\"\n",
    "Order\tClause\tFunction\n",
    "1\tFROM\tTables are joined to get the base data.\n",
    "2\tWHERE\tThe base data is filtered.\n",
    "3\tGROUP BY\tThe filtered base data is grouped.\n",
    "4\tHAVING\tThe grouped base data is filtered.\n",
    "5\tSELECT\tThe final data is returned.\n",
    "6\tORDER BY\tThe final data is sorted.\n",
    "7\tLIMIT\tThe returned data is limited to row count.\"\"\""
   ]
  },
  {
   "cell_type": "code",
   "execution_count": null,
   "id": "627c8ccc",
   "metadata": {},
   "outputs": [],
   "source": []
  }
 ],
 "metadata": {
  "kernelspec": {
   "display_name": "Python 3 (ipykernel)",
   "language": "python",
   "name": "python3"
  },
  "language_info": {
   "codemirror_mode": {
    "name": "ipython",
    "version": 3
   },
   "file_extension": ".py",
   "mimetype": "text/x-python",
   "name": "python",
   "nbconvert_exporter": "python",
   "pygments_lexer": "ipython3",
   "version": "3.9.16"
  }
 },
 "nbformat": 4,
 "nbformat_minor": 5
}
