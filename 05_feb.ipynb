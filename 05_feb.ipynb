{
 "cells": [
  {
   "cell_type": "markdown",
   "id": "6dd16b33",
   "metadata": {},
   "source": [
    "# Q1. Explain Class and Object with respect to Object-Oriented Programming. Give a suitable example.\n",
    "Ans. Python is an object oriented programming language. Almost everything in Python is an object, with its properties and methods. A Class is like an object constructor, or a \"blueprint\" for creating objects.An object is called an instance of a class. For example, suppose Bike is a class then we can create objects like bike1 , bike2 , etc from the class. Here's the syntax to create an object. Here, bike1 is the object of the class."
   ]
  },
  {
   "cell_type": "markdown",
   "id": "ef0fc0d8",
   "metadata": {},
   "source": [
    "# Q2. Name the four pillars of OOPs.\n",
    "Ans.The four pillars are Inheritance, Polymorphism, Encapsulation and Abstraction."
   ]
  },
  {
   "cell_type": "code",
   "execution_count": 2,
   "id": "e8dd307a",
   "metadata": {},
   "outputs": [
    {
     "name": "stdout",
     "output_type": "stream",
     "text": [
      "John\n",
      "36\n"
     ]
    }
   ],
   "source": [
    "# Q3. Explain why the __init__() function is used. Give a suitable example.\n",
    "#Ans.To understand the meaning of classes we have to understand the built-in __init__() function.\n",
    "#All classes have a function called __init__(), which is always executed when the class is being initiated.\n",
    "#Use the __init__() function to assign values to object properties, or other operations that are necessary to do when the object is being created:\n",
    "class Person:\n",
    "  def __init__(self, name, age):\n",
    "    self.name = name\n",
    "    self.age = age\n",
    "\n",
    "p1 = Person(\"John\", 36)\n",
    "\n",
    "print(p1.name)\n",
    "print(p1.age)   "
   ]
  },
  {
   "cell_type": "markdown",
   "id": "20ecd340",
   "metadata": {},
   "source": [
    "# Q4. Why self is used in OOPs?\n",
    "Ans. The self variable is used to represent the instance of the class which is often used in object-oriented programming. It works as a reference to the object. Python uses the self parameter to refer to instance attributes and methods of the class."
   ]
  },
  {
   "cell_type": "markdown",
   "id": "23bae078",
   "metadata": {},
   "source": [
    "# Q5. What is inheritance? Give an example for each type of inheritance.\n",
    "Ans. Inheritance is a mechanism of acquiring the features and behaviors of a class by another class. The class whose members are inherited is called the base class, and the class that inherits those members is called the derived class. Inheritance implements the IS-A relationship.For example, mammal IS-A animal, dog IS-A mammal; Hence dog IS-A animal as well."
   ]
  },
  {
   "cell_type": "code",
   "execution_count": 3,
   "id": "d5dfb13d",
   "metadata": {},
   "outputs": [
    {
     "data": {
      "text/plain": [
       "\"OOPs support the six different types of inheritance as given below :\\n   1)Single inheritance:In this inheritance, a derived class is created from a single base class.\\n     example, if Class A is the parent class and Class B is the child class then Class B inherits the features and behavior of the parent class A.\\n   2)Multi-level inheritance:In this inheritance, a derived class is created from another derived class.\\n     example, if class c inherits the properties and behavior of class B and class B inherits the properties and behavior of class A. So, here A is the parent class of B and class B is the parent class of C. So, here class C implicitly inherits the properties and behavior of class A along with Class B i.e there is a multilevel of inheritance.\\n   3)Multiple inheritance:In this inheritance, a derived class is created from more than one base class. This inheritance is not supported by .NET Languages like C#, F#, etc., and Java Language.\\n     example, if class c inherits the properties and behavior of class B and class A at the same level. So, here A and Class B both are the parent classes for Class C.\\n   4)Multipath inheritance:In this inheritance, a derived class is created from other derived classes and the same base class of other derived classes. This inheritance is not supported by .NET Languages like C#, F#, etc.\\n     example, if class D inherits the properties and behavior of class C and class B as well as Class A. Both class C and class B inherit the Class A. So, Class A is the parent for Class B and Class C as well as Class D. So it's making it a Multipath inheritance.\\n   5)Hierarchical Inheritance:In this inheritance, more than one derived class is created from a single base class and further child classes act as parent classes for more than one child class.\\n     example,if class A has two children class B and class D. Further, class B and class C both are having two children - class D and E; class F and G respectively.\\n   6)Hybrid inheritance:This is a combination of more than one inheritance. Hence, it may be a combination of Multilevel and Multiple inheritance or Hierarchical and Multilevel inheritance Hierarchical and Multipath inheritance, or Hierarchical, Multilevel and Multiple inheritances.\\n    Since .NET Languages like C#, F#, etc. do not support multiple and multipath inheritance. Hence hybrid inheritance with a combination of multiple or multipath inheritances is not supported by .NET Languages.\""
      ]
     },
     "execution_count": 3,
     "metadata": {},
     "output_type": "execute_result"
    }
   ],
   "source": [
    "\"\"\"OOPs support the six different types of inheritance as given below :\n",
    "   1)Single inheritance:In this inheritance, a derived class is created from a single base class.\n",
    "     example, if Class A is the parent class and Class B is the child class then Class B inherits the features and behavior of the parent class A.\n",
    "   2)Multi-level inheritance:In this inheritance, a derived class is created from another derived class.\n",
    "     example, if class c inherits the properties and behavior of class B and class B inherits the properties and behavior of class A. So, here A is the parent class of B and class B is the parent class of C. So, here class C implicitly inherits the properties and behavior of class A along with Class B i.e there is a multilevel of inheritance.\n",
    "   3)Multiple inheritance:In this inheritance, a derived class is created from more than one base class. This inheritance is not supported by .NET Languages like C#, F#, etc., and Java Language.\n",
    "     example, if class c inherits the properties and behavior of class B and class A at the same level. So, here A and Class B both are the parent classes for Class C.\n",
    "   4)Multipath inheritance:In this inheritance, a derived class is created from other derived classes and the same base class of other derived classes. This inheritance is not supported by .NET Languages like C#, F#, etc.\n",
    "     example, if class D inherits the properties and behavior of class C and class B as well as Class A. Both class C and class B inherit the Class A. So, Class A is the parent for Class B and Class C as well as Class D. So it's making it a Multipath inheritance.\n",
    "   5)Hierarchical Inheritance:In this inheritance, more than one derived class is created from a single base class and further child classes act as parent classes for more than one child class.\n",
    "     example,if class A has two children class B and class D. Further, class B and class C both are having two children - class D and E; class F and G respectively.\n",
    "   6)Hybrid inheritance:This is a combination of more than one inheritance. Hence, it may be a combination of Multilevel and Multiple inheritance or Hierarchical and Multilevel inheritance Hierarchical and Multipath inheritance, or Hierarchical, Multilevel and Multiple inheritances.\n",
    "    Since .NET Languages like C#, F#, etc. do not support multiple and multipath inheritance. Hence hybrid inheritance with a combination of multiple or multipath inheritances is not supported by .NET Languages.\"\"\""
   ]
  },
  {
   "cell_type": "code",
   "execution_count": null,
   "id": "43fae966",
   "metadata": {},
   "outputs": [],
   "source": []
  }
 ],
 "metadata": {
  "kernelspec": {
   "display_name": "Python 3 (ipykernel)",
   "language": "python",
   "name": "python3"
  },
  "language_info": {
   "codemirror_mode": {
    "name": "ipython",
    "version": 3
   },
   "file_extension": ".py",
   "mimetype": "text/x-python",
   "name": "python",
   "nbconvert_exporter": "python",
   "pygments_lexer": "ipython3",
   "version": "3.9.16"
  }
 },
 "nbformat": 4,
 "nbformat_minor": 5
}
