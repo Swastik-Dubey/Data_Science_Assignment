{
 "cells": [
  {
   "cell_type": "code",
   "execution_count": 18,
   "id": "c0575dea",
   "metadata": {},
   "outputs": [
    {
     "name": "stdout",
     "output_type": "stream",
     "text": [
      "Flat list : [1, 2, 3, 4, 44, 55, 66, 34, 56, 78, 89, 34, 1, 2, 3, 1, 4, 34, 55, 67, 78, 89, 45, 22, 61, 34, 56]\n",
      "product is : 4134711838987085478833841242112000\n"
     ]
    }
   ],
   "source": [
    "# Q1. Create a function which will take a list as an argument and return the product of all the numbers after creating a flat list.\n",
    "#Use the below-given list as an argument for your function.\n",
    "list1 = [1,2,3,4, [44,55,66, True], False, (34,56,78,89,34), {1,2,3,3,2,1}, {1:34, \"key2\": [55, 67, 78, 89], 4: (45,\n",
    "22, 61, 34)}, [56, 'data science'], 'Machine Learning']\n",
    "def test(a) : \n",
    "    n = []\n",
    "    for i in a :\n",
    "        if type(i) == list :\n",
    "            for j in i :\n",
    "                if type(j) == int or type(j) == float :\n",
    "                    n.append(j)\n",
    "        elif type(i) == tuple :\n",
    "            for j in i :\n",
    "                if type(j) == int or type(j) == float :\n",
    "                    n.append(j)\n",
    "        elif type(i) == set :\n",
    "            for j in i :\n",
    "                if type(j) == int or type(j) == float :\n",
    "                    n.append(j)            \n",
    "        elif type(i)== dict:\n",
    "            key1=list(i.keys())\n",
    "            values1=list(i.values())\n",
    "            for j in key1:\n",
    "                if type(j) == int or type(j) == float :\n",
    "                    n.append(j)\n",
    "            for j in values1:\n",
    "                if type(j) == list :\n",
    "                    for k in j :\n",
    "                        if type(k) == int or type(k) == float :\n",
    "                            n.append(k)\n",
    "                elif type(j) == tuple :\n",
    "                    for k in j :\n",
    "                        if type(k) == int or type(k) == float :\n",
    "                            n.append(k)\n",
    "                else :\n",
    "                    if type(j) == int or type(j) == float :\n",
    "                        n.append(j)\n",
    "                \n",
    "            \n",
    "        else :\n",
    "            if type(i) == int or type(i) == float :\n",
    "                n.append(i)\n",
    "    return n\n",
    "print(\"Flat list :\",test(list1))\n",
    "a=test(list1)\n",
    "from functools import  reduce\n",
    "ans=reduce(lambda x , y : x*y , a)\n",
    "print(\"product is :\",ans)"
   ]
  },
  {
   "cell_type": "markdown",
   "id": "7d4b0735",
   "metadata": {},
   "source": [
    "# Q2. Write a python program for encrypting a message sent to you by your friend. The logic of encryption should be such that, for a the output should be z. For b, the output should be y. For c, the output should be x respectively. Also, the whitespace should be replaced with a dollar sign. Keep the punctuation marks unchanged.\n",
    "Input Sentence: I want to become a Data Scientist.\n",
    "Encrypt the above input sentence using the program you just created.\n",
    "Note: Convert the given input sentence into lowercase before encrypting. The final output should be\n",
    "lowercase."
   ]
  },
  {
   "cell_type": "code",
   "execution_count": 22,
   "id": "279f2cf6",
   "metadata": {},
   "outputs": [
    {
     "name": "stdout",
     "output_type": "stream",
     "text": [
      "i$wznt$to$yexome$z$dztz$sxientist.\n"
     ]
    }
   ],
   "source": [
    "a=\"I want to become a Data Scientist.\"\n",
    "b=a.lower()\n",
    "var_a=b.replace(\"a\",\"z\").replace(\"b\",\"y\").replace(\"c\",\"x\").replace(\" \",\"$\")\n",
    "print(var_a)"
   ]
  },
  {
   "cell_type": "code",
   "execution_count": null,
   "id": "55d70176",
   "metadata": {},
   "outputs": [],
   "source": []
  }
 ],
 "metadata": {
  "kernelspec": {
   "display_name": "Python 3 (ipykernel)",
   "language": "python",
   "name": "python3"
  },
  "language_info": {
   "codemirror_mode": {
    "name": "ipython",
    "version": 3
   },
   "file_extension": ".py",
   "mimetype": "text/x-python",
   "name": "python",
   "nbconvert_exporter": "python",
   "pygments_lexer": "ipython3",
   "version": "3.9.16"
  }
 },
 "nbformat": 4,
 "nbformat_minor": 5
}
