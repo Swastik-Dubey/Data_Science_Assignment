{
 "cells": [
  {
   "cell_type": "markdown",
   "id": "ee458a9d-b3dc-472a-9e45-1645e616ff09",
   "metadata": {},
   "source": [
    "Q1. In order to predict house price based on several characteristics, such as location, square footage,\r\n",
    "number of bedrooms, etc., you are developing an SVM regression model. Which regression metric in this\r\n",
    "situation would be the best to employ?"
   ]
  },
  {
   "cell_type": "markdown",
   "id": "78941660-bec5-4f49-8d56-5132615aeb58",
   "metadata": {},
   "source": [
    "In the context of predicting house prices with an SVM regression model, the Root Mean Squared Error (RMSE) would be a suitable regression metric. RMSE is particularly useful when dealing with continuous target variables, such as house prices. It provides a measure of the average prediction error in the same unit as the target variable (e.g., dollars in the case of house prices)."
   ]
  },
  {
   "cell_type": "markdown",
   "id": "db9d2a0b-ec0a-45f8-8765-34dfb2248b37",
   "metadata": {},
   "source": [
    "Q2. You have built an SVM regression model and are trying to decide between using MSE or R-squared as\r\n",
    "your evaluation metric. Which metric would be more appropriate if your goal is to predict the actual price\r\n",
    "of a house as accurately as possible?"
   ]
  },
  {
   "cell_type": "markdown",
   "id": "919c6c3c-cd26-449e-a57c-e3e28011367d",
   "metadata": {},
   "source": [
    "If the goal is to predict the actual price of a house as accurately as possible, Mean Squared Error (MSE) would be more appropriate as an evaluation metric. MSE measures the average squared difference between the predicted and actual values, giving more significant penalties to larger errors. It aligns with the objective of minimizing prediction errors in terms of house prices.\n",
    "\n"
   ]
  },
  {
   "cell_type": "markdown",
   "id": "885a6ad8-39a3-49bc-977e-c0d788835ba9",
   "metadata": {},
   "source": [
    "Q3. You have a dataset with a significant number of outliers and are trying to select an appropriate\r\n",
    "regression metric to use with your SVM model. Which metric would be the most appropriate in this\r\n",
    "scenario?"
   ]
  },
  {
   "cell_type": "markdown",
   "id": "cbddc532-b321-4213-87cd-2974fbf6e31a",
   "metadata": {},
   "source": [
    "In a scenario with a significant number of outliers, the Mean Absolute Error (MAE) would be the most appropriate regression metric. MAE is less sensitive to outliers compared to MSE, as it calculates the average absolute differences between predicted and actual values. This makes it more robust in the presence of outliers, providing a better representation of typical prediction errors.\r\n",
    "\r\n"
   ]
  },
  {
   "cell_type": "markdown",
   "id": "5670465a-6989-4ff9-a53e-bffad72499e8",
   "metadata": {},
   "source": [
    "Q4. You have built an SVM regression model using a polynomial kernel and are trying to select the best\r\n",
    "metric to evaluate its performance. You have calculated both MSE and RMSE and found that both values\r\n",
    "are very close. Which metric should you choose to use in this case?"
   ]
  },
  {
   "cell_type": "markdown",
   "id": "18af9745-7283-4a48-a089-74045a3f8696",
   "metadata": {},
   "source": [
    "If both Mean Squared Error (MSE) and Root Mean Squared Error (RMSE) are very close and the primary concern is to interpret errors in the original unit of the target variable, it is generally preferable to use MSE. MSE and RMSE are closely related, with RMSE being the square root of MSE. However, MSE is easier to interpret as it directly represents the average of squared errors.\r\n",
    "\r\n"
   ]
  },
  {
   "cell_type": "markdown",
   "id": "2831ea74-6fe5-4a39-8ad9-93e612e0aa1f",
   "metadata": {},
   "source": [
    "Q5. You are comparing the performance of different SVM regression models using different kernels (linear,\r\n",
    "polynomial, and RBF) and are trying to select the best evaluation metric. Which metric would be most\r\n",
    "appropriate if your goal is to measure how well the model explains the variance in the target variable?"
   ]
  },
  {
   "cell_type": "markdown",
   "id": "00de54c8-a2d8-4778-bc8d-58cd190e0589",
   "metadata": {},
   "source": [
    "For comparing the performance of SVM regression models with different kernels (linear, polynomial, and RBF) when the goal is to measure how well the model explains the variance in the target variable, R-squared (Coefficient of Determination) would be the most appropriate metric. R-squared provides a measure of the proportion of the variance in the target variable that is predictable from the independent variables. A higher R-squared indicates a better fit and a higher degree of explanation of the variance."
   ]
  },
  {
   "cell_type": "code",
   "execution_count": null,
   "id": "83c21dad-e002-44cf-809b-d21d6ace1206",
   "metadata": {},
   "outputs": [],
   "source": []
  }
 ],
 "metadata": {
  "kernelspec": {
   "display_name": "Python 3 (ipykernel)",
   "language": "python",
   "name": "python3"
  },
  "language_info": {
   "codemirror_mode": {
    "name": "ipython",
    "version": 3
   },
   "file_extension": ".py",
   "mimetype": "text/x-python",
   "name": "python",
   "nbconvert_exporter": "python",
   "pygments_lexer": "ipython3",
   "version": "3.11.5"
  }
 },
 "nbformat": 4,
 "nbformat_minor": 5
}
